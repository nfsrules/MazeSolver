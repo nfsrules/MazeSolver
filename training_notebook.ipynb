{
 "cells": [
  {
   "cell_type": "code",
   "execution_count": 79,
   "metadata": {},
   "outputs": [
    {
     "name": "stderr",
     "output_type": "stream",
     "text": [
      "100%|██████████| 50/50 [00:00<00:00, 722.95it/s]"
     ]
    },
    {
     "name": "stdout",
     "output_type": "stream",
     "text": [
      "Creating MazeExplorer dataset of difficulty easy\n",
      "Using Prims generator\n",
      "Using shortest path solver\n"
     ]
    },
    {
     "name": "stderr",
     "output_type": "stream",
     "text": [
      "\n",
      " 22%|██▏       | 43/200 [00:00<00:00, 210.88it/s]"
     ]
    },
    {
     "name": "stdout",
     "output_type": "stream",
     "text": [
      "Dataset generated... 200 available instances\n"
     ]
    },
    {
     "name": "stderr",
     "output_type": "stream",
     "text": [
      "100%|██████████| 200/200 [00:00<00:00, 206.01it/s]\n",
      " 58%|█████▊    | 117/200 [00:00<00:00, 567.97it/s]"
     ]
    },
    {
     "name": "stdout",
     "output_type": "stream",
     "text": [
      "Estimated dopping percentage (points) =  0.076\n"
     ]
    },
    {
     "name": "stderr",
     "output_type": "stream",
     "text": [
      "100%|██████████| 200/200 [00:00<00:00, 561.51it/s]\n"
     ]
    },
    {
     "name": "stdout",
     "output_type": "stream",
     "text": [
      "Estimated dopping percentage (trajectories)=  1.0\n",
      "CNN created...\n",
      "Train test data loaders created...\n",
      "Losses and optimizer created...\n",
      "Init training loop...\n",
      "Train Epoch: 1 [133/134 (99%)] EnvLoss: 26.382843  RMSELoss: 24.711040 TotalLoss: 24.711040\n",
      "Train Epoch: 2 [133/134 (99%)] EnvLoss: 23.532089  RMSELoss: 22.410742 TotalLoss: 22.410742\n",
      "Train Epoch: 3 [133/134 (99%)] EnvLoss: 22.787313  RMSELoss: 21.643436 TotalLoss: 21.643436\n",
      "Train Epoch: 4 [133/134 (99%)] EnvLoss: 23.105972  RMSELoss: 19.835123 TotalLoss: 19.835123\n",
      "Train Epoch: 5 [133/134 (99%)] EnvLoss: 23.391787  RMSELoss: 17.496445 TotalLoss: 17.496445\n",
      "Train Epoch: 6 [133/134 (99%)] EnvLoss: 24.940298  RMSELoss: 15.238448 TotalLoss: 15.238448\n",
      "Train Epoch: 7 [133/134 (99%)] EnvLoss: 25.746265  RMSELoss: 14.740290 TotalLoss: 14.740290\n",
      "Train Epoch: 8 [133/134 (99%)] EnvLoss: 24.294039  RMSELoss: 13.642619 TotalLoss: 13.642619\n",
      "Train Epoch: 9 [133/134 (99%)] EnvLoss: 25.773134  RMSELoss: 13.083264 TotalLoss: 13.083264\n",
      "Train Epoch: 10 [133/134 (99%)] EnvLoss: 23.814177  RMSELoss: 12.122080 TotalLoss: 12.122080\n",
      "Train Epoch: 11 [133/134 (99%)] EnvLoss: 24.160444  RMSELoss: 11.926646 TotalLoss: 11.926646\n",
      "Train Epoch: 12 [133/134 (99%)] EnvLoss: 25.285076  RMSELoss: 11.552503 TotalLoss: 11.552503\n",
      "Train Epoch: 13 [133/134 (99%)] EnvLoss: 24.466419  RMSELoss: 10.830742 TotalLoss: 10.830742\n",
      "Train Epoch: 14 [133/134 (99%)] EnvLoss: 23.263428  RMSELoss: 10.326275 TotalLoss: 10.326275\n",
      "Train Epoch: 15 [133/134 (99%)] EnvLoss: 24.058962  RMSELoss: 10.173117 TotalLoss: 10.173117\n",
      "Train Epoch: 16 [133/134 (99%)] EnvLoss: 24.322392  RMSELoss: 10.792153 TotalLoss: 10.792153\n",
      "Train Epoch: 17 [133/134 (99%)] EnvLoss: 25.291040  RMSELoss: 9.844733 TotalLoss: 9.844733\n",
      "Train Epoch: 18 [133/134 (99%)] EnvLoss: 25.941044  RMSELoss: 9.777748 TotalLoss: 9.777748\n",
      "Train Epoch: 19 [133/134 (99%)] EnvLoss: 23.604477  RMSELoss: 9.480165 TotalLoss: 9.480165\n",
      "Train Epoch: 20 [133/134 (99%)] EnvLoss: 23.999250  RMSELoss: 9.061177 TotalLoss: 9.061177\n",
      "Train Epoch: 21 [133/134 (99%)] EnvLoss: 23.733580  RMSELoss: 9.096304 TotalLoss: 9.096304\n",
      "Train Epoch: 22 [133/134 (99%)] EnvLoss: 25.006718  RMSELoss: 9.056346 TotalLoss: 9.056346\n",
      "Train Epoch: 23 [133/134 (99%)] EnvLoss: 22.889551  RMSELoss: 8.456881 TotalLoss: 8.456881\n",
      "Train Epoch: 24 [133/134 (99%)] EnvLoss: 23.624626  RMSELoss: 8.632117 TotalLoss: 8.632117\n",
      "Train Epoch: 25 [133/134 (99%)] EnvLoss: 23.511194  RMSELoss: 8.256695 TotalLoss: 8.256695\n",
      "Train Epoch: 26 [56/134 (42%)] EnvLoss: 9.506717  RMSELoss: 3.582723 TotalLoss: 3.582723\r"
     ]
    },
    {
     "name": "stderr",
     "output_type": "stream",
     "text": [
      "Traceback (most recent call last):\n",
      "Traceback (most recent call last):\n",
      "  File \"/anaconda3/envs/pytorch/lib/python3.6/multiprocessing/queues.py\", line 240, in _feed\n",
      "    send_bytes(obj)\n",
      "  File \"/anaconda3/envs/pytorch/lib/python3.6/multiprocessing/connection.py\", line 200, in send_bytes\n",
      "    self._send_bytes(m[offset:offset + size])\n",
      "  File \"/anaconda3/envs/pytorch/lib/python3.6/multiprocessing/connection.py\", line 404, in _send_bytes\n",
      "    self._send(header + buf)\n",
      "  File \"/anaconda3/envs/pytorch/lib/python3.6/multiprocessing/connection.py\", line 368, in _send\n",
      "    n = write(self._handle, buf)\n",
      "BrokenPipeError: [Errno 32] Broken pipe\n",
      "  File \"/anaconda3/envs/pytorch/lib/python3.6/multiprocessing/queues.py\", line 240, in _feed\n",
      "    send_bytes(obj)\n",
      "  File \"/anaconda3/envs/pytorch/lib/python3.6/multiprocessing/connection.py\", line 200, in send_bytes\n",
      "    self._send_bytes(m[offset:offset + size])\n",
      "  File \"/anaconda3/envs/pytorch/lib/python3.6/multiprocessing/connection.py\", line 404, in _send_bytes\n",
      "    self._send(header + buf)\n",
      "  File \"/anaconda3/envs/pytorch/lib/python3.6/multiprocessing/connection.py\", line 368, in _send\n",
      "    n = write(self._handle, buf)\n",
      "BrokenPipeError: [Errno 32] Broken pipe\n",
      "Traceback (most recent call last):\n",
      "Traceback (most recent call last):\n",
      "  File \"/anaconda3/envs/pytorch/lib/python3.6/multiprocessing/queues.py\", line 240, in _feed\n",
      "    send_bytes(obj)\n",
      "  File \"/anaconda3/envs/pytorch/lib/python3.6/multiprocessing/connection.py\", line 200, in send_bytes\n",
      "    self._send_bytes(m[offset:offset + size])\n",
      "  File \"/anaconda3/envs/pytorch/lib/python3.6/multiprocessing/connection.py\", line 404, in _send_bytes\n",
      "    self._send(header + buf)\n",
      "  File \"/anaconda3/envs/pytorch/lib/python3.6/multiprocessing/connection.py\", line 368, in _send\n",
      "    n = write(self._handle, buf)\n",
      "BrokenPipeError: [Errno 32] Broken pipe\n",
      "  File \"/anaconda3/envs/pytorch/lib/python3.6/multiprocessing/queues.py\", line 240, in _feed\n",
      "    send_bytes(obj)\n",
      "  File \"/anaconda3/envs/pytorch/lib/python3.6/multiprocessing/connection.py\", line 200, in send_bytes\n",
      "    self._send_bytes(m[offset:offset + size])\n",
      "  File \"/anaconda3/envs/pytorch/lib/python3.6/multiprocessing/connection.py\", line 404, in _send_bytes\n",
      "    self._send(header + buf)\n",
      "  File \"/anaconda3/envs/pytorch/lib/python3.6/multiprocessing/connection.py\", line 368, in _send\n",
      "    n = write(self._handle, buf)\n",
      "BrokenPipeError: [Errno 32] Broken pipe\n"
     ]
    },
    {
     "ename": "KeyboardInterrupt",
     "evalue": "",
     "output_type": "error",
     "traceback": [
      "\u001b[0;31m---------------------------------------------------------------------------\u001b[0m",
      "\u001b[0;31mKeyboardInterrupt\u001b[0m                         Traceback (most recent call last)",
      "\u001b[0;32m<ipython-input-79-4fc5e866bf8e>\u001b[0m in \u001b[0;36m<module>\u001b[0;34m\u001b[0m\n\u001b[1;32m    129\u001b[0m         \u001b[0;31m# Backpropagate loss & udpate gradient\u001b[0m\u001b[0;34m\u001b[0m\u001b[0;34m\u001b[0m\u001b[0;34m\u001b[0m\u001b[0m\n\u001b[1;32m    130\u001b[0m         \u001b[0mloss\u001b[0m\u001b[0;34m.\u001b[0m\u001b[0mbackward\u001b[0m\u001b[0;34m(\u001b[0m\u001b[0;34m)\u001b[0m\u001b[0;34m\u001b[0m\u001b[0;34m\u001b[0m\u001b[0m\n\u001b[0;32m--> 131\u001b[0;31m         \u001b[0moptimizer\u001b[0m\u001b[0;34m.\u001b[0m\u001b[0mstep\u001b[0m\u001b[0;34m(\u001b[0m\u001b[0;34m)\u001b[0m\u001b[0;34m\u001b[0m\u001b[0;34m\u001b[0m\u001b[0m\n\u001b[0m\u001b[1;32m    132\u001b[0m \u001b[0;34m\u001b[0m\u001b[0m\n\u001b[1;32m    133\u001b[0m         \u001b[0;31m# Print information\u001b[0m\u001b[0;34m\u001b[0m\u001b[0;34m\u001b[0m\u001b[0;34m\u001b[0m\u001b[0m\n",
      "\u001b[0;32m/anaconda3/envs/pytorch/lib/python3.6/site-packages/torch/optim/adam.py\u001b[0m in \u001b[0;36mstep\u001b[0;34m(self, closure)\u001b[0m\n\u001b[1;32m     92\u001b[0m                 \u001b[0;31m# Decay the first and second moment running average coefficient\u001b[0m\u001b[0;34m\u001b[0m\u001b[0;34m\u001b[0m\u001b[0;34m\u001b[0m\u001b[0m\n\u001b[1;32m     93\u001b[0m                 \u001b[0mexp_avg\u001b[0m\u001b[0;34m.\u001b[0m\u001b[0mmul_\u001b[0m\u001b[0;34m(\u001b[0m\u001b[0mbeta1\u001b[0m\u001b[0;34m)\u001b[0m\u001b[0;34m.\u001b[0m\u001b[0madd_\u001b[0m\u001b[0;34m(\u001b[0m\u001b[0;36m1\u001b[0m \u001b[0;34m-\u001b[0m \u001b[0mbeta1\u001b[0m\u001b[0;34m,\u001b[0m \u001b[0mgrad\u001b[0m\u001b[0;34m)\u001b[0m\u001b[0;34m\u001b[0m\u001b[0;34m\u001b[0m\u001b[0m\n\u001b[0;32m---> 94\u001b[0;31m                 \u001b[0mexp_avg_sq\u001b[0m\u001b[0;34m.\u001b[0m\u001b[0mmul_\u001b[0m\u001b[0;34m(\u001b[0m\u001b[0mbeta2\u001b[0m\u001b[0;34m)\u001b[0m\u001b[0;34m.\u001b[0m\u001b[0maddcmul_\u001b[0m\u001b[0;34m(\u001b[0m\u001b[0;36m1\u001b[0m \u001b[0;34m-\u001b[0m \u001b[0mbeta2\u001b[0m\u001b[0;34m,\u001b[0m \u001b[0mgrad\u001b[0m\u001b[0;34m,\u001b[0m \u001b[0mgrad\u001b[0m\u001b[0;34m)\u001b[0m\u001b[0;34m\u001b[0m\u001b[0;34m\u001b[0m\u001b[0m\n\u001b[0m\u001b[1;32m     95\u001b[0m                 \u001b[0;32mif\u001b[0m \u001b[0mamsgrad\u001b[0m\u001b[0;34m:\u001b[0m\u001b[0;34m\u001b[0m\u001b[0;34m\u001b[0m\u001b[0m\n\u001b[1;32m     96\u001b[0m                     \u001b[0;31m# Maintains the maximum of all 2nd moment running avg. till now\u001b[0m\u001b[0;34m\u001b[0m\u001b[0;34m\u001b[0m\u001b[0;34m\u001b[0m\u001b[0m\n",
      "\u001b[0;31mKeyboardInterrupt\u001b[0m: "
     ]
    }
   ],
   "source": [
    "#!/usr/bin/env python\n",
    "# coding: utf-8\n",
    "# Author: Nelson Fernandez, Renault Research\n",
    "# nelson.fernandez-pinto@renault.com\n",
    "\n",
    "import sys,os\n",
    "sys.path.append(os.getcwd())\n",
    "\n",
    "# Imports\n",
    "from dataset import *\n",
    "from architectures import *\n",
    "#from functions import *\n",
    "from losses import *\n",
    "from sklearn.model_selection import train_test_split\n",
    "\n",
    "import torch\n",
    "import torch.nn.functional as F\n",
    "from torch.optim import Adam\n",
    "from torch.autograd import Variable\n",
    "device = torch.device(\"cuda\" if torch.cuda.is_available() else \"cpu\")\n",
    "torch.manual_seed(7)\n",
    "\n",
    "\n",
    "# Generate dataset\n",
    "me = MazeExplorer(maze_size=(64,64), nbr_instances=50, \n",
    "                  difficulty='easy', nbr_trajectories=2,\n",
    "                  alpha=17)\n",
    "\n",
    "# Show deopping percentages\n",
    "me.get_dopping_percentage()  # point level\n",
    "me.get_dopping_percentage_trajectories() # trajectory level\n",
    "\n",
    "# Create CNN model\n",
    "net = ConvNet().to(device)\n",
    "print('CNN created...')\n",
    "\n",
    "\n",
    "# Get set of train/test INDEXES (hacking SKlean train_test_split)\n",
    "x = np.arange(0, me.len())\n",
    "train_indexes, test_indexes, _, _ = train_test_split(x, x, \n",
    "                                                    test_size=0.33, \n",
    "                                                    random_state=7)\n",
    "\n",
    "\n",
    "# Wrap transforming function to dataset object\n",
    "t_me = TransformedDataset(me, xy_transform=xy_transform)\n",
    "\n",
    "# Get training/test subsets\n",
    "train_me = Subset(t_me, indices=train_indexes)\n",
    "test_me = Subset(t_me, indices=test_indexes)\n",
    "\n",
    "# Configure dataloaders\n",
    "batch_size = 1\n",
    "num_workers = 4\n",
    "\n",
    "trainloader = DataLoader(train_me, shuffle=True, \n",
    "                          batch_size=batch_size, \n",
    "                          num_workers=num_workers, \n",
    "                          pin_memory=True)\n",
    "\n",
    "\n",
    "testloader = DataLoader(test_me, shuffle=True, \n",
    "                         batch_size=batch_size, \n",
    "                         num_workers=1,\n",
    "                         pin_memory=True)\n",
    "\n",
    "print('Train test data loaders created...')\n",
    "\n",
    "# Init losses\n",
    "rmse = RMSELoss()\n",
    "graphic_loss = GraphicLoss()\n",
    "\n",
    "# Set optimizer (Adam)\n",
    "optimizer = Adam(net.parameters(), lr=1e-3)\n",
    "epochs = 200\n",
    "print('Losses and optimizer created...')\n",
    "\n",
    "\n",
    "net.train()\n",
    "print('Init training loop...')\n",
    "\n",
    "for epoch in range(1, epochs+1):\n",
    "    iters = 0.0\n",
    "    total_env = 0.0\n",
    "    total_rmse = 0.0\n",
    "\n",
    "    for batch_idx, (data, target, path, goals, expert_flag) in enumerate(trainloader):\n",
    "        # Convert X, Y to Torch variables\n",
    "        grid = data   # save numpy version of maze grid\n",
    "\n",
    "        # Convert input and target to tensors\n",
    "        data, target = Variable(data), Variable(target)\n",
    "        data, target = data.to(device).float(), target.to(device).float()\n",
    " \n",
    "        # Set gradient to zero\n",
    "        optimizer.zero_grad()\n",
    "\n",
    "        # Get network output\n",
    "        output = net(data)\n",
    "\n",
    "        # RMSE loss\n",
    "        rmse_loss = rmse(output, target)\n",
    "\n",
    "        # Environmental Loss\n",
    "        grid = grid[0][0].detach().numpy()\n",
    "        path = path[0].detach().numpy()\n",
    "        goals = goals[0].detach().numpy()\n",
    "        output = output[0].detach().cpu().numpy()\n",
    "\n",
    "        # Reconstruct predicted grids\n",
    "        pred_grid = torch.tensor(draw_solution_canvas(grid, output)).double().to(device)\n",
    "        pred_path = torch.tensor(draw_solution_canvas(path, output)).double().to(device)\n",
    "        pred_goals = torch.tensor(draw_goals_canvas(grid, output)).double().to(device)\n",
    "\n",
    "        # Compute graphic losses\n",
    "        # Wall loss\n",
    "        wall_loss = graphic_loss(torch.tensor(grid).to(device), pred_grid)\n",
    "        # Path planning loss \n",
    "        path_loss = graphic_loss(torch.tensor(path).to(device), pred_path)\n",
    "        #path_loss = abs(wall_loss-path_loss)\n",
    "        # Goals loss\n",
    "        goal_loss = graphic_loss(torch.tensor(goals).to(device), pred_goals)\n",
    "        # Non-expert trajectory loss\n",
    "        env_loss = Variable((wall_loss + path_loss + goal_loss), requires_grad=True)/10 #\n",
    "        \n",
    "        # Final loss\n",
    "        loss = rmse_loss#  + env_loss + rmse_loss\n",
    "    \n",
    "        # Backpropagate loss & udpate gradient\n",
    "        loss.backward()\n",
    "        optimizer.step()\n",
    "\n",
    "        # Print information\n",
    "        iters += loss\n",
    "        total_env += env_loss\n",
    "        total_rmse+= rmse_loss\n",
    "\n",
    "        print('Train Epoch: {} [{}/{} ({:.0f}%)] EnvLoss: {:.6f}  RMSELoss: {:.6f} TotalLoss: {:.6f}'.format(\n",
    "                    epoch, batch_idx, len(trainloader.dataset),\n",
    "                    100. * (batch_idx) / len(trainloader), \n",
    "                    total_env/len(trainloader), \n",
    "                    total_rmse/len(trainloader),\n",
    "                    iters/len(trainloader)\n",
    "                    ), \n",
    "                    end='\\r', flush=True)\n",
    "    print(\"\")                                 \n"
   ]
  },
  {
   "cell_type": "code",
   "execution_count": 86,
   "metadata": {},
   "outputs": [
    {
     "name": "stdout",
     "output_type": "stream",
     "text": [
      "Init training loop...\n",
      "Train Epoch: 1 [133/134 (99%)] EnvLoss: 23.244024  RMSELoss: 8.439137 TotalLoss: 8.439137\n",
      "Train Epoch: 2 [133/134 (99%)] EnvLoss: 23.520144  RMSELoss: 8.202918 TotalLoss: 8.202918\n",
      "Train Epoch: 3 [133/134 (99%)] EnvLoss: 23.076118  RMSELoss: 7.627728 TotalLoss: 7.627728\n",
      "Train Epoch: 4 [133/134 (99%)] EnvLoss: 22.102987  RMSELoss: 7.536833 TotalLoss: 7.536833\n",
      "Train Epoch: 5 [133/134 (99%)] EnvLoss: 22.449251  RMSELoss: 7.920945 TotalLoss: 7.920945\n",
      "Train Epoch: 6 [133/134 (99%)] EnvLoss: 23.558207  RMSELoss: 7.721991 TotalLoss: 7.721991\n",
      "Train Epoch: 7 [133/134 (99%)] EnvLoss: 23.395525  RMSELoss: 7.543899 TotalLoss: 7.543899\n",
      "Train Epoch: 8 [133/134 (99%)] EnvLoss: 23.905973  RMSELoss: 7.626787 TotalLoss: 7.626787\n",
      "Train Epoch: 9 [133/134 (99%)] EnvLoss: 24.068659  RMSELoss: 7.719342 TotalLoss: 7.719342\n",
      "Train Epoch: 10 [11/134 (8%)] EnvLoss: 2.272388  RMSELoss: 0.641981 TotalLoss: 0.641981\r"
     ]
    },
    {
     "name": "stderr",
     "output_type": "stream",
     "text": [
      "Traceback (most recent call last):\n",
      "  File \"/anaconda3/envs/pytorch/lib/python3.6/multiprocessing/queues.py\", line 240, in _feed\n",
      "    send_bytes(obj)\n",
      "  File \"/anaconda3/envs/pytorch/lib/python3.6/multiprocessing/connection.py\", line 200, in send_bytes\n",
      "    self._send_bytes(m[offset:offset + size])\n",
      "  File \"/anaconda3/envs/pytorch/lib/python3.6/multiprocessing/connection.py\", line 404, in _send_bytes\n",
      "    self._send(header + buf)\n",
      "  File \"/anaconda3/envs/pytorch/lib/python3.6/multiprocessing/connection.py\", line 368, in _send\n",
      "    n = write(self._handle, buf)\n",
      "Traceback (most recent call last):\n",
      "  File \"/anaconda3/envs/pytorch/lib/python3.6/multiprocessing/queues.py\", line 240, in _feed\n",
      "    send_bytes(obj)\n",
      "  File \"/anaconda3/envs/pytorch/lib/python3.6/multiprocessing/connection.py\", line 200, in send_bytes\n",
      "    self._send_bytes(m[offset:offset + size])\n",
      "  File \"/anaconda3/envs/pytorch/lib/python3.6/multiprocessing/connection.py\", line 404, in _send_bytes\n",
      "    self._send(header + buf)\n",
      "  File \"/anaconda3/envs/pytorch/lib/python3.6/multiprocessing/connection.py\", line 368, in _send\n",
      "    n = write(self._handle, buf)\n",
      "BrokenPipeError: [Errno 32] Broken pipe\n",
      "BrokenPipeError: [Errno 32] Broken pipe\n",
      "Traceback (most recent call last):\n",
      "  File \"/anaconda3/envs/pytorch/lib/python3.6/multiprocessing/queues.py\", line 240, in _feed\n",
      "    send_bytes(obj)\n",
      "  File \"/anaconda3/envs/pytorch/lib/python3.6/multiprocessing/connection.py\", line 200, in send_bytes\n",
      "    self._send_bytes(m[offset:offset + size])\n",
      "  File \"/anaconda3/envs/pytorch/lib/python3.6/multiprocessing/connection.py\", line 404, in _send_bytes\n",
      "    self._send(header + buf)\n",
      "  File \"/anaconda3/envs/pytorch/lib/python3.6/multiprocessing/connection.py\", line 368, in _send\n",
      "    n = write(self._handle, buf)\n",
      "BrokenPipeError: [Errno 32] Broken pipe\n",
      "Traceback (most recent call last):\n",
      "  File \"/anaconda3/envs/pytorch/lib/python3.6/multiprocessing/queues.py\", line 240, in _feed\n",
      "    send_bytes(obj)\n",
      "  File \"/anaconda3/envs/pytorch/lib/python3.6/multiprocessing/connection.py\", line 200, in send_bytes\n",
      "    self._send_bytes(m[offset:offset + size])\n",
      "  File \"/anaconda3/envs/pytorch/lib/python3.6/multiprocessing/connection.py\", line 404, in _send_bytes\n",
      "    self._send(header + buf)\n",
      "  File \"/anaconda3/envs/pytorch/lib/python3.6/multiprocessing/connection.py\", line 368, in _send\n",
      "    n = write(self._handle, buf)\n",
      "BrokenPipeError: [Errno 32] Broken pipe\n"
     ]
    },
    {
     "ename": "KeyboardInterrupt",
     "evalue": "",
     "output_type": "error",
     "traceback": [
      "\u001b[0;31m---------------------------------------------------------------------------\u001b[0m",
      "\u001b[0;31mKeyboardInterrupt\u001b[0m                         Traceback (most recent call last)",
      "\u001b[0;32m<ipython-input-86-84d6cb762b52>\u001b[0m in \u001b[0;36m<module>\u001b[0;34m\u001b[0m\n\u001b[1;32m     51\u001b[0m         \u001b[0;31m# Backpropagate loss & udpate gradient\u001b[0m\u001b[0;34m\u001b[0m\u001b[0;34m\u001b[0m\u001b[0;34m\u001b[0m\u001b[0m\n\u001b[1;32m     52\u001b[0m         \u001b[0mloss\u001b[0m\u001b[0;34m.\u001b[0m\u001b[0mbackward\u001b[0m\u001b[0;34m(\u001b[0m\u001b[0;34m)\u001b[0m\u001b[0;34m\u001b[0m\u001b[0;34m\u001b[0m\u001b[0m\n\u001b[0;32m---> 53\u001b[0;31m         \u001b[0moptimizer\u001b[0m\u001b[0;34m.\u001b[0m\u001b[0mstep\u001b[0m\u001b[0;34m(\u001b[0m\u001b[0;34m)\u001b[0m\u001b[0;34m\u001b[0m\u001b[0;34m\u001b[0m\u001b[0m\n\u001b[0m\u001b[1;32m     54\u001b[0m \u001b[0;34m\u001b[0m\u001b[0m\n\u001b[1;32m     55\u001b[0m         \u001b[0;31m# Print information\u001b[0m\u001b[0;34m\u001b[0m\u001b[0;34m\u001b[0m\u001b[0;34m\u001b[0m\u001b[0m\n",
      "\u001b[0;32m/anaconda3/envs/pytorch/lib/python3.6/site-packages/torch/optim/adam.py\u001b[0m in \u001b[0;36mstep\u001b[0;34m(self, closure)\u001b[0m\n\u001b[1;32m    105\u001b[0m                 \u001b[0mstep_size\u001b[0m \u001b[0;34m=\u001b[0m \u001b[0mgroup\u001b[0m\u001b[0;34m[\u001b[0m\u001b[0;34m'lr'\u001b[0m\u001b[0;34m]\u001b[0m \u001b[0;34m*\u001b[0m \u001b[0mmath\u001b[0m\u001b[0;34m.\u001b[0m\u001b[0msqrt\u001b[0m\u001b[0;34m(\u001b[0m\u001b[0mbias_correction2\u001b[0m\u001b[0;34m)\u001b[0m \u001b[0;34m/\u001b[0m \u001b[0mbias_correction1\u001b[0m\u001b[0;34m\u001b[0m\u001b[0;34m\u001b[0m\u001b[0m\n\u001b[1;32m    106\u001b[0m \u001b[0;34m\u001b[0m\u001b[0m\n\u001b[0;32m--> 107\u001b[0;31m                 \u001b[0mp\u001b[0m\u001b[0;34m.\u001b[0m\u001b[0mdata\u001b[0m\u001b[0;34m.\u001b[0m\u001b[0maddcdiv_\u001b[0m\u001b[0;34m(\u001b[0m\u001b[0;34m-\u001b[0m\u001b[0mstep_size\u001b[0m\u001b[0;34m,\u001b[0m \u001b[0mexp_avg\u001b[0m\u001b[0;34m,\u001b[0m \u001b[0mdenom\u001b[0m\u001b[0;34m)\u001b[0m\u001b[0;34m\u001b[0m\u001b[0;34m\u001b[0m\u001b[0m\n\u001b[0m\u001b[1;32m    108\u001b[0m \u001b[0;34m\u001b[0m\u001b[0m\n\u001b[1;32m    109\u001b[0m         \u001b[0;32mreturn\u001b[0m \u001b[0mloss\u001b[0m\u001b[0;34m\u001b[0m\u001b[0;34m\u001b[0m\u001b[0m\n",
      "\u001b[0;31mKeyboardInterrupt\u001b[0m: "
     ]
    }
   ],
   "source": [
    "net.train()\n",
    "print('Init training loop...')\n",
    "\n",
    "for epoch in range(1, epochs+1):\n",
    "    iters = 0.0\n",
    "    total_env = 0.0\n",
    "    total_rmse = 0.0\n",
    "\n",
    "    for batch_idx, (data, target, path, goals, expert_flag) in enumerate(trainloader):\n",
    "        # Convert X, Y to Torch variables\n",
    "        grid = data   # save numpy version of maze grid\n",
    "\n",
    "        # Convert input and target to tensors\n",
    "        data, target = Variable(data), Variable(target)\n",
    "        data, target = data.to(device).float(), target.to(device).float()\n",
    " \n",
    "        # Set gradient to zero\n",
    "        optimizer.zero_grad()\n",
    "\n",
    "        # Get network output\n",
    "        output = net(data)\n",
    "\n",
    "        # RMSE loss\n",
    "        rmse_loss = rmse(output, target)\n",
    "\n",
    "        # Environmental Loss\n",
    "        grid = grid[0][0].detach().numpy()\n",
    "        path = path[0].detach().numpy()\n",
    "        goals = goals[0].detach().numpy()\n",
    "        output = output[0].detach().cpu().numpy()\n",
    "\n",
    "        # Reconstruct predicted grids\n",
    "        pred_grid = torch.tensor(draw_solution_canvas(grid, output)).double().to(device)\n",
    "        pred_path = torch.tensor(draw_solution_canvas(path, output)).double().to(device)\n",
    "        pred_goals = torch.tensor(draw_goals_canvas(grid, output)).double().to(device)\n",
    "\n",
    "        # Compute graphic losses\n",
    "        # Wall loss\n",
    "        wall_loss = graphic_loss(torch.tensor(grid).to(device), pred_grid)\n",
    "        # Path planning loss \n",
    "        path_loss = graphic_loss(torch.tensor(path).to(device), pred_path)\n",
    "        #path_loss = abs(wall_loss-path_loss)\n",
    "        # Goals loss\n",
    "        goal_loss = graphic_loss(torch.tensor(goals).to(device), pred_goals)\n",
    "        # Non-expert trajectory loss\n",
    "        env_loss = Variable((wall_loss + path_loss + goal_loss), requires_grad=True)/10 #\n",
    "        \n",
    "        # Final loss\n",
    "        loss = rmse_loss#  + env_loss + rmse_loss\n",
    "    \n",
    "        # Backpropagate loss & udpate gradient\n",
    "        loss.backward()\n",
    "        optimizer.step()\n",
    "\n",
    "        # Print information\n",
    "        iters += loss\n",
    "        total_env += env_loss\n",
    "        total_rmse+= rmse_loss\n",
    "\n",
    "        print('Train Epoch: {} [{}/{} ({:.0f}%)] EnvLoss: {:.6f}  RMSELoss: {:.6f} TotalLoss: {:.6f}'.format(\n",
    "                    epoch, batch_idx, len(trainloader.dataset),\n",
    "                    100. * (batch_idx) / len(trainloader), \n",
    "                    total_env/len(trainloader), \n",
    "                    total_rmse/len(trainloader),\n",
    "                    iters/len(trainloader)\n",
    "                    ), \n",
    "                    end='\\r', flush=True)\n",
    "    print(\"\")                                 \n"
   ]
  },
  {
   "cell_type": "code",
   "execution_count": 87,
   "metadata": {},
   "outputs": [
    {
     "data": {
      "text/plain": [
       "ConvNet(\n",
       "  (layer1): Sequential(\n",
       "    (0): Conv2d(1, 32, kernel_size=(5, 5), stride=(1, 1), padding=(2, 2))\n",
       "    (1): ReLU()\n",
       "    (2): MaxPool2d(kernel_size=2, stride=2, padding=0, dilation=1, ceil_mode=False)\n",
       "  )\n",
       "  (layer2): Sequential(\n",
       "    (0): Conv2d(32, 64, kernel_size=(5, 5), stride=(1, 1), padding=(2, 2))\n",
       "    (1): ReLU()\n",
       "    (2): MaxPool2d(kernel_size=2, stride=2, padding=0, dilation=1, ceil_mode=False)\n",
       "  )\n",
       "  (layer3): Sequential(\n",
       "    (0): Conv2d(64, 2, kernel_size=(3, 3), stride=(1, 1), padding=(1, 1))\n",
       "    (1): ReLU()\n",
       "  )\n",
       "  (drop_out): Dropout(p=0.5)\n",
       "  (fc1): Linear(in_features=16384, out_features=1000, bias=True)\n",
       "  (fc2): Linear(in_features=1000, out_features=100, bias=True)\n",
       ")"
      ]
     },
     "execution_count": 87,
     "metadata": {},
     "output_type": "execute_result"
    }
   ],
   "source": [
    "net.eval()"
   ]
  },
  {
   "cell_type": "code",
   "execution_count": 102,
   "metadata": {},
   "outputs": [
    {
     "name": "stdout",
     "output_type": "stream",
     "text": [
      "tensor(5.7891, grad_fn=<SqrtBackward>)\n",
      "tensor(4.9636, grad_fn=<SqrtBackward>)\n",
      "tensor(4.9669, grad_fn=<SqrtBackward>)\n",
      "tensor(6.9963, grad_fn=<SqrtBackward>)\n",
      "tensor(8.4008, grad_fn=<SqrtBackward>)\n",
      "tensor(2.4058, grad_fn=<SqrtBackward>)\n",
      "tensor(2.2934, grad_fn=<SqrtBackward>)\n",
      "tensor(8.7058, grad_fn=<SqrtBackward>)\n",
      "tensor(7.5401, grad_fn=<SqrtBackward>)\n",
      "tensor(3.6444, grad_fn=<SqrtBackward>)\n"
     ]
    }
   ],
   "source": [
    "\n",
    "for i, (data, target, path, goals, expert_flag) in enumerate(testloader):\n",
    "    # Convert input and target to tensors\n",
    "    data, target = Variable(data), Variable(target)\n",
    "    data, target = data.to(device).float(), target.to(device).float()\n",
    "    # Get network output\n",
    "    output = net(data)\n",
    "\n",
    "    # RMSE loss\n",
    "    rmse_loss = rmse(output, target)\n",
    "    print(rmse_loss)\n",
    "    \n",
    "    #print(i)\n",
    "    if i == 9:\n",
    "        break\n"
   ]
  },
  {
   "cell_type": "code",
   "execution_count": 103,
   "metadata": {},
   "outputs": [
    {
     "data": {
      "text/plain": [
       "<matplotlib.collections.PathCollection at 0x1c2c882e80>"
      ]
     },
     "execution_count": 103,
     "metadata": {},
     "output_type": "execute_result"
    },
    {
     "data": {
      "image/png": "[encoded data removed]",
      "text/plain": [
       "<Figure size 432x288 with 1 Axes>"
      ]
     },
     "metadata": {
      "needs_background": "light"
     },
     "output_type": "display_data"
    }
   ],
   "source": [
    "plt.imshow(data[0][0])#output[:,:].detach().numpy())\n",
    "plt.scatter(output[:,:,1].detach().numpy(), output[:,:,0].detach().numpy())"
   ]
  },
  {
   "cell_type": "code",
   "execution_count": 101,
   "metadata": {},
   "outputs": [
    {
     "data": {
      "text/plain": [
       "<matplotlib.collections.PathCollection at 0x1c2c882a20>"
      ]
     },
     "execution_count": 101,
     "metadata": {},
     "output_type": "execute_result"
    },
    {
     "data": {
      "image/png": "[encoded data removed]",
      "text/plain": [
       "<Figure size 432x288 with 1 Axes>"
      ]
     },
     "metadata": {
      "needs_background": "light"
     },
     "output_type": "display_data"
    }
   ],
   "source": [
    "plt.imshow(data[0][0])#output[:,:].detach().numpy())\n",
    "plt.scatter(output[:,:,1].detach().numpy(), output[:,:,0].detach().numpy())"
   ]
  },
  {
   "cell_type": "code",
   "execution_count": 99,
   "metadata": {},
   "outputs": [
    {
     "data": {
      "text/plain": [
       "<matplotlib.collections.PathCollection at 0x1c2c6edd30>"
      ]
     },
     "execution_count": 99,
     "metadata": {},
     "output_type": "execute_result"
    },
    {
     "data": {
      "image/png": "[encoded data removed]",
      "text/plain": [
       "<Figure size 432x288 with 1 Axes>"
      ]
     },
     "metadata": {
      "needs_background": "light"
     },
     "output_type": "display_data"
    }
   ],
   "source": [
    "plt.imshow(data[0][0])#output[:,:].detach().numpy())\n",
    "plt.scatter(output[:,:,1].detach().numpy(), output[:,:,0].detach().numpy())"
   ]
  },
  {
   "cell_type": "code",
   "execution_count": 95,
   "metadata": {},
   "outputs": [
    {
     "data": {
      "text/plain": [
       "<matplotlib.collections.PathCollection at 0x1c2b8fb710>"
      ]
     },
     "execution_count": 95,
     "metadata": {},
     "output_type": "execute_result"
    },
    {
     "data": {
      "image/png": "[encoded data removed]",
      "text/plain": [
       "<Figure size 432x288 with 1 Axes>"
      ]
     },
     "metadata": {
      "needs_background": "light"
     },
     "output_type": "display_data"
    }
   ],
   "source": [
    "plt.imshow(data[0][0])#output[:,:].detach().numpy())\n",
    "plt.scatter(output[:,:,1].detach().numpy(), output[:,:,0].detach().numpy())"
   ]
  },
  {
   "cell_type": "code",
   "execution_count": 93,
   "metadata": {},
   "outputs": [
    {
     "data": {
      "text/plain": [
       "<matplotlib.collections.PathCollection at 0x1c52efaeb8>"
      ]
     },
     "execution_count": 93,
     "metadata": {},
     "output_type": "execute_result"
    },
    {
     "data": {
      "image/png": "[encoded data removed]",
      "text/plain": [
       "<Figure size 432x288 with 1 Axes>"
      ]
     },
     "metadata": {
      "needs_background": "light"
     },
     "output_type": "display_data"
    }
   ],
   "source": [
    "plt.imshow(data[0][0])#output[:,:].detach().numpy())\n",
    "plt.scatter(output[:,:,1].detach().numpy(), output[:,:,0].detach().numpy())"
   ]
  },
  {
   "cell_type": "code",
   "execution_count": null,
   "metadata": {},
   "outputs": [],
   "source": []
  },
  {
   "cell_type": "code",
   "execution_count": null,
   "metadata": {},
   "outputs": [],
   "source": []
  }
 ],
 "metadata": {
  "kernelspec": {
   "display_name": "pytorch",
   "language": "python",
   "name": "pytorch"
  },
  "language_info": {
   "codemirror_mode": {
    "name": "ipython",
    "version": 3
   },
   "file_extension": ".py",
   "mimetype": "text/x-python",
   "name": "python",
   "nbconvert_exporter": "python",
   "pygments_lexer": "ipython3",
   "version": "3.6.8"
  }
 },
 "nbformat": 4,
 "nbformat_minor": 2
}
