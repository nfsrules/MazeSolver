{
 "cells": [
  {
   "cell_type": "code",
   "execution_count": 1,
   "metadata": {},
   "outputs": [
    {
     "name": "stdout",
     "output_type": "stream",
     "text": [
      "WARNING: Running uncompiled Python\n",
      "WARNING: Running uncompiled Python\n"
     ]
    },
    {
     "name": "stderr",
     "output_type": "stream",
     "text": [
      "100%|██████████| 10/10 [00:00<00:00, 1145.45it/s]"
     ]
    },
    {
     "name": "stdout",
     "output_type": "stream",
     "text": [
      "Creating MazeExplorer dataset of difficulty easy\n",
      "Using Prims generator\n",
      "Using shortest path solver\n"
     ]
    },
    {
     "name": "stderr",
     "output_type": "stream",
     "text": [
      "\n"
     ]
    },
    {
     "name": "stdout",
     "output_type": "stream",
     "text": [
      "Dataset generated... 220 available instances\n",
      "CNN created...\n",
      "Train test data loaders created...\n",
      "Losses and optimizer created...\n"
     ]
    }
   ],
   "source": [
    "#!/usr/bin/env python\n",
    "# coding: utf-8\n",
    "# Author: Nelson Fernandez, Renault Research\n",
    "# nelson.fernandez-pinto@renault.com\n",
    "\n",
    "import sys,os\n",
    "sys.path.append(os.getcwd())\n",
    "\n",
    "# Imports\n",
    "from dataset import *\n",
    "from architectures import *\n",
    "from functions import *\n",
    "from losses import *\n",
    "from sklearn.model_selection import train_test_split\n",
    "\n",
    "import torch\n",
    "import torch.nn.functional as F\n",
    "from torch.optim import Adam\n",
    "from torch.autograd import Variable\n",
    "device = torch.device(\"cuda\" if torch.cuda.is_available() else \"cpu\")\n",
    "torch.manual_seed(17)\n",
    "\n",
    "\n",
    "# Generate dataset\n",
    "me = MazeExplorer(maze_size=(64,64), nbr_instances=10, \n",
    "                  difficulty='easy', nbr_trajectories=20,\n",
    "                  alpha=17)\n",
    "\n",
    "\n",
    "# Show dopping percentages\n",
    "#me.get_dopping_percentage()  # point level\n",
    "#me.get_dopping_percentage_trajectories() # trajectory level\n",
    "\n",
    "\n",
    "# Create CNN model\n",
    "net = ConvNet().to(device)\n",
    "print('CNN created...')\n",
    "\n",
    "\n",
    "# Get set of train/test INDEXES (hacking SKlean train_test_split)\n",
    "x = np.arange(0, me.len())\n",
    "train_indexes, test_indexes, _, _ = train_test_split(x, x, \n",
    "                                                    test_size=0.33, \n",
    "                                                    random_state=7)\n",
    "\n",
    "\n",
    "# Wrap transforming function to dataset object\n",
    "t_me = TransformedDataset(me, xy_transform=xy_transform)\n",
    "\n",
    "# Get training/test subsets\n",
    "train_me = Subset(t_me, indices=train_indexes)\n",
    "test_me = Subset(t_me, indices=test_indexes)\n",
    "\n",
    "# Configure dataloaders\n",
    "batch_size = 10\n",
    "num_workers = 4\n",
    "\n",
    "trainloader = DataLoader(train_me, shuffle=True, \n",
    "                          batch_size=batch_size, \n",
    "                          num_workers=num_workers, \n",
    "                          pin_memory=True)\n",
    "\n",
    "\n",
    "testloader = DataLoader(test_me, shuffle=True, \n",
    "                         batch_size=batch_size, \n",
    "                         num_workers=1,\n",
    "                         pin_memory=True)\n",
    "\n",
    "print('Train test data loaders created...')\n",
    "\n",
    "# Init losses\n",
    "rmse = RMSELoss()\n",
    "graphic_loss = GraphicLoss()\n",
    "\n",
    "# Set optimizer (Adam)\n",
    "optimizer = Adam(net.parameters(), lr=1e-3)\n",
    "epochs = 200\n",
    "print('Losses and optimizer created...')\n"
   ]
  },
  {
   "cell_type": "code",
   "execution_count": 3,
   "metadata": {
    "scrolled": false
   },
   "outputs": [
    {
     "name": "stdout",
     "output_type": "stream",
     "text": [
      "Init training loop...\n"
     ]
    },
    {
     "ename": "ValueError",
     "evalue": "too many values to unpack (expected 2)",
     "output_type": "error",
     "traceback": [
      "\u001b[0;31m---------------------------------------------------------------------------\u001b[0m",
      "\u001b[0;31mValueError\u001b[0m                                Traceback (most recent call last)",
      "\u001b[0;32m<ipython-input-3-e7ed72a9683d>\u001b[0m in \u001b[0;36m<module>\u001b[0;34m\u001b[0m\n\u001b[1;32m     38\u001b[0m \u001b[0;34m\u001b[0m\u001b[0m\n\u001b[1;32m     39\u001b[0m         \u001b[0;31m# Reconstruct predicted grids\u001b[0m\u001b[0;34m\u001b[0m\u001b[0;34m\u001b[0m\u001b[0;34m\u001b[0m\u001b[0m\n\u001b[0;32m---> 40\u001b[0;31m         \u001b[0mpred_grid\u001b[0m \u001b[0;34m=\u001b[0m \u001b[0mtorch\u001b[0m\u001b[0;34m.\u001b[0m\u001b[0mtensor\u001b[0m\u001b[0;34m(\u001b[0m\u001b[0mdraw_solution_canvas\u001b[0m\u001b[0;34m(\u001b[0m\u001b[0mgrid\u001b[0m\u001b[0;34m,\u001b[0m \u001b[0moutput\u001b[0m\u001b[0;34m)\u001b[0m\u001b[0;34m)\u001b[0m\u001b[0;34m.\u001b[0m\u001b[0mdouble\u001b[0m\u001b[0;34m(\u001b[0m\u001b[0;34m)\u001b[0m\u001b[0;34m.\u001b[0m\u001b[0mto\u001b[0m\u001b[0;34m(\u001b[0m\u001b[0mdevice\u001b[0m\u001b[0;34m)\u001b[0m\u001b[0;34m\u001b[0m\u001b[0;34m\u001b[0m\u001b[0m\n\u001b[0m\u001b[1;32m     41\u001b[0m         \u001b[0mpred_path\u001b[0m \u001b[0;34m=\u001b[0m \u001b[0mtorch\u001b[0m\u001b[0;34m.\u001b[0m\u001b[0mtensor\u001b[0m\u001b[0;34m(\u001b[0m\u001b[0mdraw_solution_canvas\u001b[0m\u001b[0;34m(\u001b[0m\u001b[0mpath\u001b[0m\u001b[0;34m,\u001b[0m \u001b[0moutput\u001b[0m\u001b[0;34m)\u001b[0m\u001b[0;34m)\u001b[0m\u001b[0;34m.\u001b[0m\u001b[0mdouble\u001b[0m\u001b[0;34m(\u001b[0m\u001b[0;34m)\u001b[0m\u001b[0;34m.\u001b[0m\u001b[0mto\u001b[0m\u001b[0;34m(\u001b[0m\u001b[0mdevice\u001b[0m\u001b[0;34m)\u001b[0m\u001b[0;34m\u001b[0m\u001b[0;34m\u001b[0m\u001b[0m\n\u001b[1;32m     42\u001b[0m         \u001b[0mpred_goals\u001b[0m \u001b[0;34m=\u001b[0m \u001b[0mtorch\u001b[0m\u001b[0;34m.\u001b[0m\u001b[0mtensor\u001b[0m\u001b[0;34m(\u001b[0m\u001b[0mdraw_goals_canvas\u001b[0m\u001b[0;34m(\u001b[0m\u001b[0mgrid\u001b[0m\u001b[0;34m,\u001b[0m \u001b[0moutput\u001b[0m\u001b[0;34m)\u001b[0m\u001b[0;34m)\u001b[0m\u001b[0;34m.\u001b[0m\u001b[0mdouble\u001b[0m\u001b[0;34m(\u001b[0m\u001b[0;34m)\u001b[0m\u001b[0;34m.\u001b[0m\u001b[0mto\u001b[0m\u001b[0;34m(\u001b[0m\u001b[0mdevice\u001b[0m\u001b[0;34m)\u001b[0m\u001b[0;34m\u001b[0m\u001b[0;34m\u001b[0m\u001b[0m\n",
      "\u001b[0;32m~/Desktop/code/MazeSolver/functions.py\u001b[0m in \u001b[0;36mdraw_solution_canvas\u001b[0;34m(grid, solution)\u001b[0m\n\u001b[1;32m    477\u001b[0m     \u001b[0;31m# Create empty canvas (1: non drivable)\u001b[0m\u001b[0;34m\u001b[0m\u001b[0;34m\u001b[0m\u001b[0;34m\u001b[0m\u001b[0m\n\u001b[1;32m    478\u001b[0m     \u001b[0mcanvas\u001b[0m \u001b[0;34m=\u001b[0m \u001b[0mnp\u001b[0m\u001b[0;34m.\u001b[0m\u001b[0mzeros_like\u001b[0m\u001b[0;34m(\u001b[0m\u001b[0mgrid\u001b[0m\u001b[0;34m)\u001b[0m\u001b[0;34m\u001b[0m\u001b[0;34m\u001b[0m\u001b[0m\n\u001b[0;32m--> 479\u001b[0;31m     \u001b[0mroad_size\u001b[0m \u001b[0;34m=\u001b[0m \u001b[0mestimate_road_width\u001b[0m\u001b[0;34m(\u001b[0m\u001b[0mgrid\u001b[0m\u001b[0;34m)\u001b[0m\u001b[0;34m\u001b[0m\u001b[0;34m\u001b[0m\u001b[0m\n\u001b[0m\u001b[1;32m    480\u001b[0m     \u001b[0mw\u001b[0m\u001b[0;34m,\u001b[0m \u001b[0ml\u001b[0m \u001b[0;34m=\u001b[0m \u001b[0;34m(\u001b[0m\u001b[0mint\u001b[0m\u001b[0;34m(\u001b[0m\u001b[0mroad_size\u001b[0m\u001b[0;34m/\u001b[0m\u001b[0;36m2\u001b[0m\u001b[0;34m)\u001b[0m\u001b[0;34m,\u001b[0m \u001b[0mint\u001b[0m\u001b[0;34m(\u001b[0m\u001b[0mroad_size\u001b[0m\u001b[0;34m/\u001b[0m\u001b[0;36m2\u001b[0m\u001b[0;34m)\u001b[0m\u001b[0;34m)\u001b[0m\u001b[0;34m\u001b[0m\u001b[0;34m\u001b[0m\u001b[0m\n\u001b[1;32m    481\u001b[0m \u001b[0;34m\u001b[0m\u001b[0m\n",
      "\u001b[0;32m~/Desktop/code/MazeSolver/functions.py\u001b[0m in \u001b[0;36mestimate_road_width\u001b[0;34m(path_planning)\u001b[0m\n\u001b[1;32m    205\u001b[0m \u001b[0;34m\u001b[0m\u001b[0m\n\u001b[1;32m    206\u001b[0m     '''\n\u001b[0;32m--> 207\u001b[0;31m     \u001b[0mw\u001b[0m\u001b[0;34m,\u001b[0m \u001b[0mh\u001b[0m \u001b[0;34m=\u001b[0m \u001b[0mpath_planning\u001b[0m\u001b[0;34m.\u001b[0m\u001b[0mshape\u001b[0m\u001b[0;34m\u001b[0m\u001b[0;34m\u001b[0m\u001b[0m\n\u001b[0m\u001b[1;32m    208\u001b[0m \u001b[0;34m\u001b[0m\u001b[0m\n\u001b[1;32m    209\u001b[0m     \u001b[0mroad_size_x\u001b[0m \u001b[0;34m=\u001b[0m \u001b[0;34m[\u001b[0m\u001b[0;34m]\u001b[0m\u001b[0;34m\u001b[0m\u001b[0;34m\u001b[0m\u001b[0m\n",
      "\u001b[0;31mValueError\u001b[0m: too many values to unpack (expected 2)"
     ]
    }
   ],
   "source": [
    "\n",
    "\n",
    "net.train()\n",
    "print('Init training loop...')\n",
    "loss_dict = []\n",
    "\n",
    "for epoch in range(1, epochs+1):\n",
    "    iters = 0.0\n",
    "    total_env = 0.0\n",
    "    total_rmse = 0.0\n",
    "    for batch_idx, (data, target, path, goals, expert_flag) in enumerate(trainloader):\n",
    "        # Convert X, Y to Torch variables\n",
    "        grid = data   # save numpy version of maze grid\n",
    "\n",
    "        # Convert input and target to tensors\n",
    "        data, target = Variable(data), Variable(target)\n",
    "        data, target = data.to(device).float(), target.to(device).float()\n",
    " \n",
    "        # Set gradient to zero\n",
    "        optimizer.zero_grad()\n",
    "\n",
    "        # Get network output\n",
    "        output = net(data)\n",
    "\n",
    "        # RMSE Loss\n",
    "        #loss = mse(output, target)\n",
    "        # Compute total loss (RMSE + Env)\n",
    "        #loss = total_loss(rmse, graphic_loss, grid, path, goals, output, target, env=True)\n",
    "\n",
    "        rmse_loss = rmse(output, target)\n",
    "        # non-expert trajectory (environment).detach().numpy()\n",
    "        # Maze walls loss (target, prediction) / Convert to numpy arrays\n",
    "        \n",
    "        #grid = grid[0][0].detach().numpy()\n",
    "        #path = path[0].detach().numpy()\n",
    "        #goals = goals[0].detach().numpy()\n",
    "        #output = output[0].detach().cpu().numpy()\n",
    "\n",
    "        # Reconstruct predicted grids\n",
    "        pred_grid = torch.tensor(draw_solution_canvas(grid, output)).double().to(device)\n",
    "        pred_path = torch.tensor(draw_solution_canvas(path, output)).double().to(device)\n",
    "        pred_goals = torch.tensor(draw_goals_canvas(grid, output)).double().to(device)\n",
    "\n",
    "        # Compute graphic losses\n",
    "        # Wall loss\n",
    "        wall_loss = graphic_loss(torch.tensor(grid).to(device), pred_grid)\n",
    "        # Path planning loss \n",
    "        path_loss = graphic_loss(torch.tensor(path).to(device), pred_path)\n",
    "        #path_loss = abs(wall_loss-path_loss)\n",
    "        # Goals loss\n",
    "        goal_loss = graphic_loss(torch.tensor(goals).to(device), pred_goals)\n",
    "\n",
    "        # Final non-expert trajectory loss\n",
    "        env_loss = Variable((wall_loss + path_loss + goal_loss), requires_grad=True)/10 #\n",
    "        loss = env_loss + rmse_loss\n",
    "    \n",
    "        #print('env loss', env_loss)\n",
    "        #print('rmse loss', rmse_loss)\n",
    "\n",
    "        # Backpropagate loss & udpate gradient\n",
    "        loss.backward()\n",
    "        optimizer.step()\n",
    "        \n",
    "        #if epoch == 20:\n",
    "        #    break\n",
    "        \n",
    "        # Print information\n",
    "        iters += loss\n",
    "        total_env+= env_loss\n",
    "        total_rmse+= rmse_loss\n",
    "        \n",
    "        #print('Train Epoch: {} [{}/{} ({:.0f}%)] Loss: {:.6f}'.format(\n",
    "        #        epoch, batch_idx, len(trainloader.dataset),\n",
    "        #        100. * (batch_idx) / len(trainloader), iters/len(trainloader)), end='\\r', flush=True)\n",
    "    #print(\"\")\n",
    "    \n",
    "\n",
    "        print('Train Epoch: {} [{}/{} ({:.0f}%)] EnvLoss: {:.6f}  RMSELoss: {:.6f} TotalLoss: {:.6f}'.format(\n",
    "                epoch, batch_idx, len(trainloader.dataset),\n",
    "                100. * (batch_idx) / len(trainloader), \n",
    "                total_env/len(trainloader), \n",
    "                total_rmse/len(trainloader),\n",
    "                iters/len(trainloader)\n",
    "                ), \n",
    "                \n",
    "                end='\\r', flush=True)\n",
    "    print(\"\")\n",
    "    loss_dict.append([total_env/len(trainloader), \n",
    "                      total_rmse/len(trainloader), \n",
    "                      iters/len(trainloader)])\n",
    "                                 "
   ]
  },
  {
   "cell_type": "code",
   "execution_count": null,
   "metadata": {},
   "outputs": [],
   "source": [
    "def plot_losses(losses):\n",
    "    t_en = []\n",
    "    t_rm = []\n",
    "    t_to = []\n",
    "    for element in losses:\n",
    "        en, rm, total = element\n",
    "        t_en.append(en)\n",
    "        t_rm.append(rm)\n",
    "        t_to.append(total)\n",
    "    plt.figure(figsize=(14,5))\n",
    "    plt.plot(range(len(t_en)), t_en, label='env losses')\n",
    "    plt.plot(range(len(t_en)), t_rm, label='rmse loss')\n",
    "    plt.plot(range(len(t_en)), t_to, label='total loss')\n",
    "    plt.title('Train loss')\n",
    "    plt.legend()\n"
   ]
  },
  {
   "cell_type": "code",
   "execution_count": null,
   "metadata": {},
   "outputs": [],
   "source": [
    "plot_losses(loss_dict)"
   ]
  },
  {
   "cell_type": "code",
   "execution_count": null,
   "metadata": {},
   "outputs": [],
   "source": [
    "plot_losses(loss_dict)"
   ]
  },
  {
   "cell_type": "code",
   "execution_count": null,
   "metadata": {},
   "outputs": [],
   "source": [
    "plt.imshow(grid.T)\n",
    "plt.scatter(target[0][:,0], target[0][:,1])\n",
    "plt.title('target')"
   ]
  },
  {
   "cell_type": "code",
   "execution_count": null,
   "metadata": {},
   "outputs": [],
   "source": [
    "plt.imshow(grid.T)\n",
    "plt.scatter(output[:,0], output[:,1])\n",
    "plt.title('prediction')"
   ]
  },
  {
   "cell_type": "code",
   "execution_count": null,
   "metadata": {},
   "outputs": [],
   "source": [
    "plt.imshow(goals.T)\n",
    "plt.scatter(output[:,0], output[:,1])\n",
    "plt.title('prediction')"
   ]
  },
  {
   "cell_type": "code",
   "execution_count": null,
   "metadata": {},
   "outputs": [],
   "source": [
    "pred_grid = torch.tensor(draw_solution_canvas(grid, output)).double().to(device)\n",
    "\n",
    "# Compute graphic losses\n",
    "# Wall loss\n",
    "wall_loss = graphic_loss(torch.tensor(grid).to(device), pred_grid)\n",
    "        "
   ]
  },
  {
   "cell_type": "code",
   "execution_count": null,
   "metadata": {},
   "outputs": [],
   "source": [
    "wall_loss"
   ]
  },
  {
   "cell_type": "code",
   "execution_count": null,
   "metadata": {},
   "outputs": [],
   "source": [
    "add_grid = torch.add(torch.tensor(grid).to(device), pred_grid.t())\n",
    "plt.imshow(add_grid)"
   ]
  },
  {
   "cell_type": "code",
   "execution_count": null,
   "metadata": {},
   "outputs": [],
   "source": [
    "torch.sum(add_grid > 1.).float()"
   ]
  },
  {
   "cell_type": "code",
   "execution_count": null,
   "metadata": {},
   "outputs": [],
   "source": [
    "goal_grid = torch.tensor(draw_goals_canvas(goals, output)).double().to(device)\n",
    "add_grid4 = torch.add(torch.tensor(goals).to(device), goal_grid.t())\n",
    "plt.imshow(add_grid4)"
   ]
  },
  {
   "cell_type": "code",
   "execution_count": null,
   "metadata": {},
   "outputs": [],
   "source": [
    "torch.sum(add_grid4 > 1.).float()"
   ]
  },
  {
   "cell_type": "code",
   "execution_count": null,
   "metadata": {},
   "outputs": [],
   "source": [
    "goal_grid = torch.tensor(draw_goals_canvas(goals, target[0])).double().to(device)\n",
    "add_grid3 = torch.add(torch.tensor(goals).to(device), goal_grid.t())\n",
    "plt.imshow(add_grid3)"
   ]
  },
  {
   "cell_type": "code",
   "execution_count": null,
   "metadata": {},
   "outputs": [],
   "source": [
    "torch.sum(add_grid3 > 1.).float()"
   ]
  },
  {
   "cell_type": "code",
   "execution_count": null,
   "metadata": {},
   "outputs": [],
   "source": []
  },
  {
   "cell_type": "code",
   "execution_count": null,
   "metadata": {},
   "outputs": [],
   "source": []
  },
  {
   "cell_type": "code",
   "execution_count": null,
   "metadata": {},
   "outputs": [],
   "source": [
    "pred_target = torch.tensor(draw_solution_canvas(grid, target[0])).double().to(device)\n",
    "\n",
    "add_grid2 = torch.add(torch.tensor(grid).to(device), pred_target.t())\n",
    "\n",
    "plt.imshow(add_grid2)"
   ]
  },
  {
   "cell_type": "code",
   "execution_count": null,
   "metadata": {},
   "outputs": [],
   "source": [
    "torch.sum(add_grid2 > 1.).float()"
   ]
  },
  {
   "cell_type": "code",
   "execution_count": null,
   "metadata": {},
   "outputs": [],
   "source": [
    "goal_loss"
   ]
  },
  {
   "cell_type": "code",
   "execution_count": null,
   "metadata": {},
   "outputs": [],
   "source": [
    "add_grid = torch.add(torch.tensor(path).to('cuda'), pred_path)\n",
    "plt.imshow(add_grid.detach().cpu().numpy())\n",
    "graphic_loss(torch.tensor(path).to(device), torch.tensor(pred_path).double().to(device))"
   ]
  },
  {
   "cell_type": "code",
   "execution_count": null,
   "metadata": {},
   "outputs": [],
   "source": [
    "add_grid = torch.add(torch.tensor(path\n",
    "                                 ).to('cuda'), pred_path.t())\n",
    "torch.sum(add_grid > 1.).float()"
   ]
  },
  {
   "cell_type": "code",
   "execution_count": null,
   "metadata": {},
   "outputs": [],
   "source": [
    "add_grid.min()"
   ]
  },
  {
   "cell_type": "code",
   "execution_count": null,
   "metadata": {},
   "outputs": [],
   "source": [
    "add_grid2 = torch.add(torch.tensor(grid).to('cuda'), pred_grid.t())\n",
    "plt.imshow(add_grid2.detach().cpu().numpy())\n",
    "graphic_loss(torch.tensor(grid).to(device), torch.tensor(pred_grid).double().to(device))"
   ]
  },
  {
   "cell_type": "code",
   "execution_count": null,
   "metadata": {},
   "outputs": [],
   "source": [
    "add_grid = torch.add(torch.tensor(goals).to('cuda'), pred_goals.t())\n",
    "plt.imshow(add_grid.detach().cpu().numpy())\n",
    "graphic_loss(torch.tensor(goals).to(device), torch.tensor(pred_goals).double().to(device))"
   ]
  },
  {
   "cell_type": "code",
   "execution_count": null,
   "metadata": {},
   "outputs": [],
   "source": [
    "add_grid = torch.add(torch.tensor(grid).to('cuda'), pred_grid.t())\n",
    "\n",
    "plt.imshow(add_grid.detach().cpu().numpy())"
   ]
  },
  {
   "cell_type": "code",
   "execution_count": null,
   "metadata": {},
   "outputs": [],
   "source": [
    "plt.imshow(grid.T)\n",
    "plt.scatter(target[0][:,0], target[0][:,1])"
   ]
  },
  {
   "cell_type": "code",
   "execution_count": null,
   "metadata": {},
   "outputs": [],
   "source": [
    "plt.imshow(grid.T)\n",
    "plt.scatter(output[:,0], output[:,1])"
   ]
  },
  {
   "cell_type": "code",
   "execution_count": null,
   "metadata": {},
   "outputs": [],
   "source": []
  },
  {
   "cell_type": "markdown",
   "metadata": {},
   "source": [
    "## Vectorize losses"
   ]
  },
  {
   "cell_type": "code",
   "execution_count": null,
   "metadata": {},
   "outputs": [],
   "source": [
    "data.shape"
   ]
  },
  {
   "cell_type": "code",
   "execution_count": null,
   "metadata": {},
   "outputs": [],
   "source": [
    "target.shape"
   ]
  },
  {
   "cell_type": "code",
   "execution_count": null,
   "metadata": {},
   "outputs": [],
   "source": [
    "grid.shape"
   ]
  },
  {
   "cell_type": "code",
   "execution_count": null,
   "metadata": {},
   "outputs": [],
   "source": [
    "goals.shape"
   ]
  },
  {
   "cell_type": "code",
   "execution_count": null,
   "metadata": {},
   "outputs": [],
   "source": [
    "path.shape"
   ]
  },
  {
   "cell_type": "code",
   "execution_count": null,
   "metadata": {},
   "outputs": [],
   "source": [
    "class GraphicLoss(nn.Module):\n",
    "    def __init__(self):\n",
    "        super().__init__()\n",
    "\n",
    "    def forward(self, target, prediction):     \n",
    "        add_grid = torch.add(target, prediction.t())\n",
    "        return torch.sum(add_grid > 1.).float()\n"
   ]
  },
  {
   "cell_type": "code",
   "execution_count": null,
   "metadata": {},
   "outputs": [],
   "source": [
    "grid.shape"
   ]
  },
  {
   "cell_type": "code",
   "execution_count": null,
   "metadata": {},
   "outputs": [],
   "source": [
    "# Get solution canvas for each element in batch\n",
    "h = [draw_solution_canvas(x[0],y) for x in grid for y in target]\n",
    "h = torch.tensor(h)"
   ]
  },
  {
   "cell_type": "code",
   "execution_count": null,
   "metadata": {},
   "outputs": [],
   "source": [
    "l = [graphic_loss(y_true, y_pred) for y_true in grid for y_pred in h]"
   ]
  },
  {
   "cell_type": "code",
   "execution_count": null,
   "metadata": {},
   "outputs": [],
   "source": [
    "l = torch.tensor(l)"
   ]
  },
  {
   "cell_type": "code",
   "execution_count": null,
   "metadata": {},
   "outputs": [],
   "source": [
    "l.mean()"
   ]
  },
  {
   "cell_type": "code",
   "execution_count": null,
   "metadata": {},
   "outputs": [],
   "source": [
    "l/16"
   ]
  },
  {
   "cell_type": "code",
   "execution_count": null,
   "metadata": {},
   "outputs": [],
   "source": [
    "torch.tensor(h).shape"
   ]
  },
  {
   "cell_type": "code",
   "execution_count": null,
   "metadata": {},
   "outputs": [],
   "source": [
    "a = torch.arange(0,8).view(-1,2,2)\n",
    "b = [t.inverse() for t in torch.functional.unbind(a)]\n",
    "c = torch.functional.stack(b)-"
   ]
  },
  {
   "cell_type": "code",
   "execution_count": null,
   "metadata": {},
   "outputs": [],
   "source": [
    "class GraphicLoss(nn.Module):\n",
    "    def __init__(self):\n",
    "        super().__init__()\n",
    "\n",
    "    def forward(self, target, prediction):\n",
    "        add_grid = torch.add(target, prediction.t())\n",
    "        return torch.sum(add_grid > 1.).float()\n"
   ]
  },
  {
   "cell_type": "code",
   "execution_count": null,
   "metadata": {},
   "outputs": [],
   "source": [
    "grid.shape"
   ]
  },
  {
   "cell_type": "code",
   "execution_count": null,
   "metadata": {},
   "outputs": [],
   "source": [
    "h.shape"
   ]
  },
  {
   "cell_type": "code",
   "execution_count": null,
   "metadata": {},
   "outputs": [],
   "source": [
    "graphic_loss(grid, torch.tensor(h))"
   ]
  },
  {
   "cell_type": "code",
   "execution_count": null,
   "metadata": {},
   "outputs": [],
   "source": [
    "plt.imshow(l[9])"
   ]
  },
  {
   "cell_type": "code",
   "execution_count": null,
   "metadata": {},
   "outputs": [],
   "source": []
  },
  {
   "cell_type": "code",
   "execution_count": null,
   "metadata": {},
   "outputs": [],
   "source": [
    "grid = grid[0][0].detach().numpy()\n",
    "path = path[0].detach().numpy()\n",
    "goals = goals[0].detach().numpy()\n",
    "output = output[0].detach().cpu().numpy()\n",
    "\n",
    "# Reconstruct predicted grids\n",
    "pred_grid = torch.tensor(draw_solution_canvas(grid, output)).double().to(device)\n",
    "pred_path = torch.tensor(draw_solution_canvas(path, output)).double().to(device)\n",
    "pred_goals = torch.tensor(draw_goals_canvas(grid, output)).double().to(device)\n",
    "\n",
    "# Compute graphic losses\n",
    "# Wall loss\n",
    "wall_loss = graphic_loss(torch.tensor(grid).to(device), pred_grid)\n",
    "# Path planning loss \n",
    "path_loss = graphic_loss(torch.tensor(path).to(device), pred_path)\n",
    "#path_loss = abs(wall_loss-path_loss)\n",
    "# Goals loss\n",
    "goal_loss = graphic_loss(torch.tensor(goals).to(device), pred_goals)\n",
    "\n",
    "# Final non-expert trajectory loss\n",
    "env_loss = Variable((wall_loss + path_loss + goal_loss), requires_grad=True)/10 #\n",
    "loss = env_loss + rmse_loss\n",
    "    "
   ]
  }
 ],
 "metadata": {
  "kernelspec": {
   "display_name": "pytorch",
   "language": "python",
   "name": "pytorch"
  },
  "language_info": {
   "codemirror_mode": {
    "name": "ipython",
    "version": 3
   },
   "file_extension": ".py",
   "mimetype": "text/x-python",
   "name": "python",
   "nbconvert_exporter": "python",
   "pygments_lexer": "ipython3",
   "version": "3.6.8"
  }
 },
 "nbformat": 4,
 "nbformat_minor": 2
}
