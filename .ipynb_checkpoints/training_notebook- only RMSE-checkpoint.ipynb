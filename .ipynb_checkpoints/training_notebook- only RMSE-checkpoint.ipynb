{
 "cells": [
  {
   "cell_type": "code",
   "execution_count": 1,
   "metadata": {
    "scrolled": false
   },
   "outputs": [
    {
     "name": "stdout",
     "output_type": "stream",
     "text": [
      "WARNING: Running uncompiled Python\n",
      "WARNING: Running uncompiled Python\n"
     ]
    },
    {
     "name": "stderr",
     "output_type": "stream",
     "text": [
      "100%|██████████| 30/30 [00:00<00:00, 1242.63it/s]"
     ]
    },
    {
     "name": "stdout",
     "output_type": "stream",
     "text": [
      "Creating MazeExplorer dataset of difficulty easy\n",
      "Using Prims generator\n",
      "Using shortest path solver\n"
     ]
    },
    {
     "name": "stderr",
     "output_type": "stream",
     "text": [
      "\n",
      " 18%|█▊        | 22/120 [00:00<00:00, 214.85it/s]"
     ]
    },
    {
     "name": "stdout",
     "output_type": "stream",
     "text": [
      "Dataset generated... 120 available instances\n"
     ]
    },
    {
     "name": "stderr",
     "output_type": "stream",
     "text": [
      "100%|██████████| 120/120 [00:00<00:00, 175.42it/s]\n",
      " 38%|███▊      | 45/120 [00:00<00:00, 446.01it/s]"
     ]
    },
    {
     "name": "stdout",
     "output_type": "stream",
     "text": [
      "Estimated dopping percentage (points) =  0.118\n"
     ]
    },
    {
     "name": "stderr",
     "output_type": "stream",
     "text": [
      "100%|██████████| 120/120 [00:00<00:00, 426.15it/s]\n"
     ]
    },
    {
     "name": "stdout",
     "output_type": "stream",
     "text": [
      "Estimated dopping percentage (trajectories)=  1.667\n",
      "CNN created...\n",
      "Train test data loaders created...\n",
      "Losses and optimizer created...\n"
     ]
    }
   ],
   "source": [
    "#!/usr/bin/env python\n",
    "# coding: utf-8\n",
    "# Author: Nelson Fernandez, Renault Research\n",
    "# nelson.fernandez-pinto@renault.com\n",
    "\n",
    "import sys,os\n",
    "sys.path.append(os.getcwd())\n",
    "\n",
    "# Imports\n",
    "from dataset import *\n",
    "from architectures import *\n",
    "#from functions import *\n",
    "from losses import *\n",
    "from sklearn.model_selection import train_test_split\n",
    "\n",
    "import matplotlib.pyplot as plt \n",
    "%matplotlib inline\n",
    "\n",
    "import torch\n",
    "import torch.nn.functional as F\n",
    "from torch.optim import Adam\n",
    "from torch.autograd import Variable\n",
    "device = torch.device(\"cuda\" if torch.cuda.is_available() else \"cpu\")\n",
    "torch.manual_seed(7)\n",
    "\n",
    "\n",
    "# Generate dataset\n",
    "me = MazeExplorer(maze_size=(64,64), nbr_instances=30, \n",
    "                  difficulty='easy', nbr_trajectories=2,\n",
    "                  alpha=17)\n",
    "\n",
    "# Show deopping percentages\n",
    "me.get_dopping_percentage()  # point level\n",
    "me.get_dopping_percentage_trajectories() # trajectory level\n",
    "\n",
    "# Create CNN model\n",
    "net = ConvNet().to(device)\n",
    "print('CNN created...')\n",
    "\n",
    "\n",
    "# Get set of train/test INDEXES (hacking SKlean train_test_split)\n",
    "x = np.arange(0, me.len())\n",
    "train_indexes, test_indexes, _, _ = train_test_split(x, x, \n",
    "                                                    test_size=0.33, \n",
    "                                                    random_state=7)\n",
    "\n",
    "\n",
    "# Wrap transforming function to dataset object\n",
    "t_me = TransformedDataset(me, xy_transform=xy_transform)\n",
    "\n",
    "# Get training/test subsets\n",
    "train_me = Subset(t_me, indices=train_indexes)\n",
    "test_me = Subset(t_me, indices=test_indexes)\n",
    "\n",
    "# Configure dataloaders\n",
    "batch_size = 1\n",
    "num_workers = 4\n",
    "\n",
    "trainloader = DataLoader(train_me, shuffle=True, \n",
    "                          batch_size=batch_size, \n",
    "                          num_workers=num_workers, \n",
    "                          pin_memory=True)\n",
    "\n",
    "\n",
    "testloader = DataLoader(test_me, shuffle=True, \n",
    "                         batch_size=batch_size, \n",
    "                         num_workers=1,\n",
    "                         pin_memory=True)\n",
    "\n",
    "print('Train test data loaders created...')\n",
    "\n",
    "# Init losses\n",
    "rmse = RMSELoss()\n",
    "graphic_loss = GraphicLoss()\n",
    "road_loss = RoadLoss(k1=0.1)\n",
    "\n",
    "# Set optimizer (Adam)\n",
    "optimizer = Adam(net.parameters(), lr=1e-3)\n",
    "epochs = 200\n",
    "print('Losses and optimizer created...')\n",
    "\n",
    "\n"
   ]
  },
  {
   "cell_type": "code",
   "execution_count": null,
   "metadata": {
    "scrolled": false
   },
   "outputs": [
    {
     "name": "stdout",
     "output_type": "stream",
     "text": [
      "Init training loop...\n"
     ]
    },
    {
     "name": "stderr",
     "output_type": "stream",
     "text": [
      "/anaconda3/envs/pytorch/lib/python3.6/site-packages/ipykernel_launcher.py:25: UserWarning: To copy construct from a tensor, it is recommended to use sourceTensor.clone().detach() or sourceTensor.clone().detach().requires_grad_(True), rather than torch.tensor(sourceTensor).\n"
     ]
    },
    {
     "name": "stdout",
     "output_type": "stream",
     "text": [
      "Train Epoch: 1 [79/80 (99%)] EnvLoss: 0.021557  RMSELoss: 18.548178 TotalLoss: 18.548178\n"
     ]
    },
    {
     "data": {
      "image/png": "[encoded data removed]",
      "text/plain": [
       "<Figure size 432x288 with 2 Axes>"
      ]
     },
     "metadata": {
      "needs_background": "light"
     },
     "output_type": "display_data"
    },
    {
     "name": "stdout",
     "output_type": "stream",
     "text": [
      "Train Epoch: 2 [79/80 (99%)] EnvLoss: 0.030192  RMSELoss: 16.854496 TotalLoss: 16.854496\n"
     ]
    },
    {
     "data": {
      "image/png": "[encoded data removed]",
      "text/plain": [
       "<Figure size 432x288 with 2 Axes>"
      ]
     },
     "metadata": {
      "needs_background": "light"
     },
     "output_type": "display_data"
    },
    {
     "name": "stdout",
     "output_type": "stream",
     "text": [
      "Train Epoch: 3 [79/80 (99%)] EnvLoss: 0.019451  RMSELoss: 15.200070 TotalLoss: 15.200070\n"
     ]
    },
    {
     "data": {
      "image/png": "[encoded data removed]",
      "text/plain": [
       "<Figure size 432x288 with 2 Axes>"
      ]
     },
     "metadata": {
      "needs_background": "light"
     },
     "output_type": "display_data"
    },
    {
     "name": "stdout",
     "output_type": "stream",
     "text": [
      "Train Epoch: 4 [79/80 (99%)] EnvLoss: 0.024761  RMSELoss: 14.213829 TotalLoss: 14.213829\n"
     ]
    },
    {
     "data": {
      "image/png": "[encoded data removed]",
      "text/plain": [
       "<Figure size 432x288 with 2 Axes>"
      ]
     },
     "metadata": {
      "needs_background": "light"
     },
     "output_type": "display_data"
    },
    {
     "name": "stdout",
     "output_type": "stream",
     "text": [
      "Train Epoch: 5 [79/80 (99%)] EnvLoss: 0.053512  RMSELoss: 12.053759 TotalLoss: 12.053759\n"
     ]
    },
    {
     "data": {
      "image/png": "[encoded data removed]",
      "text/plain": [
       "<Figure size 432x288 with 2 Axes>"
      ]
     },
     "metadata": {
      "needs_background": "light"
     },
     "output_type": "display_data"
    },
    {
     "name": "stdout",
     "output_type": "stream",
     "text": [
      "Train Epoch: 6 [79/80 (99%)] EnvLoss: 0.046243  RMSELoss: 11.299148 TotalLoss: 11.299148\n"
     ]
    },
    {
     "data": {
      "image/png": "[encoded data removed]",
      "text/plain": [
       "<Figure size 432x288 with 2 Axes>"
      ]
     },
     "metadata": {
      "needs_background": "light"
     },
     "output_type": "display_data"
    },
    {
     "name": "stdout",
     "output_type": "stream",
     "text": [
      "Train Epoch: 7 [79/80 (99%)] EnvLoss: 0.047679  RMSELoss: 10.872681 TotalLoss: 10.872681\n"
     ]
    },
    {
     "data": {
      "image/png": "[encoded data removed]",
      "text/plain": [
       "<Figure size 432x288 with 2 Axes>"
      ]
     },
     "metadata": {
      "needs_background": "light"
     },
     "output_type": "display_data"
    },
    {
     "name": "stdout",
     "output_type": "stream",
     "text": [
      "Train Epoch: 8 [79/80 (99%)] EnvLoss: 0.049231  RMSELoss: 9.153897 TotalLoss: 9.153897\n"
     ]
    },
    {
     "data": {
      "image/png": "[encoded data removed]",
      "text/plain": [
       "<Figure size 432x288 with 2 Axes>"
      ]
     },
     "metadata": {
      "needs_background": "light"
     },
     "output_type": "display_data"
    },
    {
     "name": "stdout",
     "output_type": "stream",
     "text": [
      "Train Epoch: 9 [79/80 (99%)] EnvLoss: 0.047249  RMSELoss: 9.192349 TotalLoss: 9.192349\n"
     ]
    },
    {
     "data": {
      "image/png": "[encoded data removed]",
      "text/plain": [
       "<Figure size 432x288 with 2 Axes>"
      ]
     },
     "metadata": {
      "needs_background": "light"
     },
     "output_type": "display_data"
    },
    {
     "name": "stdout",
     "output_type": "stream",
     "text": [
      "Train Epoch: 10 [79/80 (99%)] EnvLoss: 0.048039  RMSELoss: 8.851106 TotalLoss: 8.851106\n"
     ]
    },
    {
     "data": {
      "image/png": "[encoded data removed]",
      "text/plain": [
       "<Figure size 432x288 with 2 Axes>"
      ]
     },
     "metadata": {
      "needs_background": "light"
     },
     "output_type": "display_data"
    },
    {
     "name": "stdout",
     "output_type": "stream",
     "text": [
      "Train Epoch: 11 [79/80 (99%)] EnvLoss: 0.041824  RMSELoss: 8.954166 TotalLoss: 8.954166\n"
     ]
    },
    {
     "data": {
      "image/png": "[encoded data removed]",
      "text/plain": [
       "<Figure size 432x288 with 2 Axes>"
      ]
     },
     "metadata": {
      "needs_background": "light"
     },
     "output_type": "display_data"
    },
    {
     "name": "stdout",
     "output_type": "stream",
     "text": [
      "Train Epoch: 12 [79/80 (99%)] EnvLoss: 0.062143  RMSELoss: 7.834285 TotalLoss: 7.834285\n"
     ]
    },
    {
     "data": {
      "image/png": "[encoded data removed]",
      "text/plain": [
       "<Figure size 432x288 with 2 Axes>"
      ]
     },
     "metadata": {
      "needs_background": "light"
     },
     "output_type": "display_data"
    },
    {
     "name": "stdout",
     "output_type": "stream",
     "text": [
      "Train Epoch: 13 [79/80 (99%)] EnvLoss: 0.047452  RMSELoss: 8.567325 TotalLoss: 8.567325\n"
     ]
    },
    {
     "data": {
      "image/png": "[encoded data removed]",
      "text/plain": [
       "<Figure size 432x288 with 2 Axes>"
      ]
     },
     "metadata": {
      "needs_background": "light"
     },
     "output_type": "display_data"
    },
    {
     "name": "stdout",
     "output_type": "stream",
     "text": [
      "Train Epoch: 14 [79/80 (99%)] EnvLoss: 0.028206  RMSELoss: 7.946067 TotalLoss: 7.946067\n"
     ]
    },
    {
     "data": {
      "image/png": "[encoded data removed]",
      "text/plain": [
       "<Figure size 432x288 with 2 Axes>"
      ]
     },
     "metadata": {
      "needs_background": "light"
     },
     "output_type": "display_data"
    },
    {
     "name": "stdout",
     "output_type": "stream",
     "text": [
      "Train Epoch: 15 [79/80 (99%)] EnvLoss: 0.061109  RMSELoss: 7.299994 TotalLoss: 7.299994\n"
     ]
    },
    {
     "data": {
      "image/png": "[encoded data removed]",
      "text/plain": [
       "<Figure size 432x288 with 2 Axes>"
      ]
     },
     "metadata": {
      "needs_background": "light"
     },
     "output_type": "display_data"
    },
    {
     "name": "stdout",
     "output_type": "stream",
     "text": [
      "Train Epoch: 16 [76/80 (95%)] EnvLoss: 0.055219  RMSELoss: 6.624620 TotalLoss: 6.624620\r"
     ]
    }
   ],
   "source": [
    "net.train()\n",
    "print('Init training loop...')\n",
    "\n",
    "for epoch in range(1, epochs+1):\n",
    "    iters = 0.0\n",
    "    total_env = 0.0\n",
    "    total_rmse = 0.0\n",
    "\n",
    "    for batch_idx, (data, target, path, goals, expert_flag) in enumerate(trainloader):\n",
    "        # Convert X, Y to Torch variables\n",
    "        grid = data   # save numpy version of maze grid\n",
    "\n",
    "        # Convert input and target to tensors\n",
    "        data, target = Variable(data), Variable(target)\n",
    "        data, target = data.to(device).float(), target.to(device).float()\n",
    " \n",
    "        # Set gradient to zero\n",
    "        optimizer.zero_grad()\n",
    "\n",
    "        # Get network output\n",
    "        output = net(data)\n",
    "\n",
    "        # RMSE loss\n",
    "        rmse_loss = rmse(output, target)\n",
    "        r_loss = road_loss(torch.tensor(grid).reshape(64,64), output.reshape(-1,2).int())\n",
    "\n",
    "        # Environmental Loss\n",
    "        grid = grid[0][0].detach().numpy()\n",
    "        #path = path[0].detach().numpy()\n",
    "        #goals = goals[0].detach().numpy()\n",
    "        output = output[0].detach().cpu().numpy()\n",
    "\n",
    "        # Reconstruct predicted grids\n",
    "        #pred_grid = torch.tensor(draw_solution_canvas(grid, output)).double().to(device)\n",
    "        #pred_path = torch.tensor(draw_solution_canvas(path, output)).double().to(device)\n",
    "        #pred_goals = torch.tensor(draw_goals_canvas(grid, output)).double().to(device)\n",
    "\n",
    "        # Compute graphic losses\n",
    "        # Wall loss\n",
    "        #wall_loss = graphic_loss(torch.tensor(grid).to(device), pred_grid)\n",
    "        # Path planning loss \n",
    "        #path_loss = graphic_loss(torch.tensor(path).to(device), pred_path)\n",
    "        #path_loss = abs(wall_loss-path_loss)\n",
    "        # Goals loss\n",
    "        #goal_loss = graphic_loss(torch.tensor(goals).to(device), pred_goals)\n",
    "        # Non-expert trajectory loss\n",
    "        #env_loss = Variable((wall_loss + path_loss), requires_grad=True)/20 #\n",
    "        \n",
    "        # Final loss\n",
    "        loss = rmse_loss #+ r_loss #+ Variable(wall_loss) #env_loss\n",
    "        \n",
    "        env_loss = r_loss #Variable(wall_loss)\n",
    "    \n",
    "        # Backpropagate loss & udpate gradient\n",
    "        loss.backward()\n",
    "        optimizer.step()\n",
    "\n",
    "        # Print information\n",
    "        iters += loss\n",
    "        total_env += env_loss\n",
    "        total_rmse+= rmse_loss\n",
    "\n",
    "        print('Train Epoch: {} [{}/{} ({:.0f}%)] EnvLoss: {:.6f}  RMSELoss: {:.6f} TotalLoss: {:.6f}'.format(\n",
    "                    epoch, batch_idx, len(trainloader.dataset),\n",
    "                    100. * (batch_idx) / len(trainloader), \n",
    "                    total_env/len(trainloader), \n",
    "                    total_rmse/len(trainloader),\n",
    "                    iters/len(trainloader)\n",
    "                    ), \n",
    "                    end='\\r', flush=True)\n",
    "    print(\"\")                                 \n",
    "    fig, ax = plt.subplots(1,2)\n",
    "    ax[0].imshow(grid)\n",
    "    ax[0].scatter(target[0][:,1], target[0][:,0])\n",
    "\n",
    "    ax[1].imshow(grid)   \n",
    "    ax[1].scatter(output[:,1], output[:,0])\n",
    "\n",
    "    plt.show()\n"
   ]
  },
  {
   "cell_type": "code",
   "execution_count": 5,
   "metadata": {},
   "outputs": [
    {
     "data": {
      "text/plain": [
       "torch.Size([1, 1, 64, 64])"
      ]
     },
     "execution_count": 5,
     "metadata": {},
     "output_type": "execute_result"
    }
   ],
   "source": [
    "grid.shape"
   ]
  },
  {
   "cell_type": "code",
   "execution_count": null,
   "metadata": {},
   "outputs": [],
   "source": [
    "#output\n",
    "#plt.imshow(data.reshape(64,64))"
   ]
  },
  {
   "cell_type": "code",
   "execution_count": null,
   "metadata": {},
   "outputs": [],
   "source": [
    "#output.reshape(-1,2)"
   ]
  },
  {
   "cell_type": "code",
   "execution_count": null,
   "metadata": {},
   "outputs": [],
   "source": [
    "\n",
    "for i, (data, target, path, goals, expert_flag) in enumerate(testloader):\n",
    "    # Convert input and target to tensors\n",
    "    data, target = Variable(data), Variable(target)\n",
    "    data, target = data.to(device).float(), target.to(device).float()\n",
    "    # Get network output\n",
    "    output = net(data)\n",
    "\n",
    "    # RMSE loss\n",
    "    rmse_loss = rmse(output, target)\n",
    "    print(rmse_loss)\n",
    "    \n",
    "    #print(i)\n",
    "    if i == 19:\n",
    "        break\n"
   ]
  },
  {
   "cell_type": "code",
   "execution_count": null,
   "metadata": {},
   "outputs": [],
   "source": [
    "plt.imshow(data[0][0])#output[:,:].detach().numpy())\n",
    "plt.scatter(output[:,:,1].detach().numpy(), output[:,:,0].detach().numpy())"
   ]
  },
  {
   "cell_type": "code",
   "execution_count": null,
   "metadata": {},
   "outputs": [],
   "source": [
    "plt.imshow(data[0][0])#output[:,:].detach().numpy())\n",
    "plt.scatter(output[:,:,1].detach().numpy(), output[:,:,0].detach().numpy())"
   ]
  },
  {
   "cell_type": "code",
   "execution_count": null,
   "metadata": {},
   "outputs": [],
   "source": [
    "plt.imshow(data[0][0])#output[:,:].detach().numpy())\n",
    "plt.scatter(output[:,:,1].detach().numpy(), output[:,:,0].detach().numpy())"
   ]
  },
  {
   "cell_type": "code",
   "execution_count": null,
   "metadata": {},
   "outputs": [],
   "source": [
    "plt.imshow(data[0][0])#output[:,:].detach().numpy())\n",
    "plt.scatter(output[:,:,1].detach().numpy(), output[:,:,0].detach().numpy())"
   ]
  },
  {
   "cell_type": "code",
   "execution_count": null,
   "metadata": {},
   "outputs": [],
   "source": [
    "plt.imshow(data[0][0])#output[:,:].detach().numpy())\n",
    "plt.scatter(output[:,:,1].detach().numpy(), output[:,:,0].detach().numpy())"
   ]
  },
  {
   "cell_type": "code",
   "execution_count": null,
   "metadata": {},
   "outputs": [],
   "source": []
  },
  {
   "cell_type": "code",
   "execution_count": null,
   "metadata": {},
   "outputs": [],
   "source": []
  }
 ],
 "metadata": {
  "kernelspec": {
   "display_name": "pytorch",
   "language": "python",
   "name": "pytorch"
  },
  "language_info": {
   "codemirror_mode": {
    "name": "ipython",
    "version": 3
   },
   "file_extension": ".py",
   "mimetype": "text/x-python",
   "name": "python",
   "nbconvert_exporter": "python",
   "pygments_lexer": "ipython3",
   "version": "3.6.8"
  }
 },
 "nbformat": 4,
 "nbformat_minor": 2
}
