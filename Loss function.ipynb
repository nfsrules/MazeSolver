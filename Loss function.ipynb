{
 "cells": [
  {
   "cell_type": "markdown",
   "metadata": {},
   "source": [
    "### Loss function"
   ]
  },
  {
   "cell_type": "code",
   "execution_count": 1,
   "metadata": {},
   "outputs": [],
   "source": [
    "import numpy as np\n",
    "import matplotlib.pyplot as plt\n",
    "%matplotlib inline"
   ]
  },
  {
   "cell_type": "markdown",
   "metadata": {},
   "source": [
    "### Function 1: Road Loss"
   ]
  },
  {
   "cell_type": "code",
   "execution_count": 15,
   "metadata": {},
   "outputs": [],
   "source": [
    "from losses import *"
   ]
  },
  {
   "cell_type": "code",
   "execution_count": 87,
   "metadata": {},
   "outputs": [],
   "source": [
    "x = np.linspace(0,40)\n",
    "x1 = np.linspace(-40,0)\n",
    "\n",
    "k2 = 40\n",
    "k1 = 5"
   ]
  },
  {
   "cell_type": "code",
   "execution_count": 88,
   "metadata": {},
   "outputs": [],
   "source": [
    "y = np.exp(-x1*(np.log(2))/k2)\n",
    "y2 = np.exp(-1*x**2/k1)"
   ]
  },
  {
   "cell_type": "code",
   "execution_count": 89,
   "metadata": {},
   "outputs": [
    {
     "data": {
      "text/plain": [
       "Text(0, 0.5, 'Loss')"
      ]
     },
     "execution_count": 89,
     "metadata": {},
     "output_type": "execute_result"
    },
    {
     "data": {
      "image/png": "[encoded data removed]",
      "text/plain": [
       "<Figure size 432x288 with 1 Axes>"
      ]
     },
     "metadata": {
      "needs_background": "light"
     },
     "output_type": "display_data"
    }
   ],
   "source": [
    "plt.plot(x1, y, label='out of road', c='r')\n",
    "plt.plot(x, y2, label='in road')\n",
    "plt.legend()\n",
    "plt.title('Custom losses')\n",
    "plt.xlabel('pixels')\n",
    "plt.ylabel('Loss')"
   ]
  },
  {
   "cell_type": "markdown",
   "metadata": {},
   "source": [
    "### Function 2: Collision Loss "
   ]
  },
  {
   "cell_type": "code",
   "execution_count": 170,
   "metadata": {},
   "outputs": [],
   "source": [
    "import cv2\n",
    "import math\n",
    "from numpy import matlib\n",
    "\n",
    "def binary2bgr(map_mask):\n",
    "    '''Convert binary HD map to 3-channel image (numpy array)\n",
    "    \n",
    "    '''\n",
    "    mask = Image.fromarray(map_mask.mask())\n",
    "    mask = np.array(mask)\n",
    "    return cv2.cvtColor(mask, cv2.COLOR_GRAY2RGB)\n",
    "\n",
    "\n",
    "def polygon_from_ego(center, angle, l=17.3, w=41.0):\n",
    "    '''Create a CV2 drawable polygon from current egopose.\n",
    "    ego_map: dictionary of current egopose (px,py,angle)\n",
    "    w, l: Vehicle width and lenght, by default Renault ZOE's dimesions.\n",
    "    \n",
    "    Returns: drawable cv2 polygon\n",
    "    '''\n",
    "    # Unpacking egopose as center of the vehicle (original map)\n",
    "    cx, cy = center\n",
    "    angle = angle\n",
    "\n",
    "    # Convert heading angle to radians\n",
    "    theta = math.radians(angle)\n",
    "\n",
    "    # Generate corners of the bounding box\n",
    "    bbox = matlib.repmat([[cx], [cy]], 1, 5) + \\\n",
    "       np.matmul([[math.cos(theta), math.sin(theta)],\n",
    "                  [-math.sin(theta), math.cos(theta)]],\n",
    "                 [[-w / 2, w / 2, w / 2, -w / 2, w / 2 + 8],\n",
    "                  [-l / 2, -l / 2, l / 2, l / 2, 0]])\n",
    "    \n",
    "    # add first point\n",
    "    x1, y1 = bbox[0][0], bbox[1][0]\n",
    "    # add second point\n",
    "    x2, y2 = bbox[0][1], bbox[1][1]\n",
    "    # add forth point\n",
    "    x3, y3 = bbox[0][2], bbox[1][2]\n",
    "    # add fifth point\n",
    "    x4, y4 = bbox[0][3], bbox[1][3]\n",
    "    \n",
    "    polygon = [x1, y1, x2, y2, x3, y3, x4, y4]\n",
    "          \n",
    "    return np.array(polygon).reshape((-1,1,2)).astype(np.int32)\n",
    "\n",
    "\n",
    "def draw_egopose(polygon, overlay, angle, speed):\n",
    "    '''Draw box with speed channel. Crops the map on a square centered on ego, transform the original box\n",
    "    coordinates to new reference (only translation, not rotation)\n",
    "    box: box dictionary to draw\n",
    "    map_mask & map_mask: full sized (original) map\n",
    "    ego: Coordinates of ego in the current frame (reference to original map)\n",
    "    field_view: limit of visibility as pixels around ego\n",
    "    speed: non-normalized speed of the current actor (ms, degrees)\n",
    "    ann:  Annotate speed of actor or not\n",
    "    '''\n",
    "    # For human readable colors\n",
    "    b = 255\n",
    "    g = int((speed/40)*255)\n",
    "    r = int((angle/360)*255)\n",
    "    \n",
    "    # Draw the box\n",
    "    cv2.drawContours(overlay, [polygon], 0, (b,g,r), -1)\n",
    "\n",
    "    return overlay\n"
   ]
  },
  {
   "cell_type": "code",
   "execution_count": 276,
   "metadata": {},
   "outputs": [],
   "source": [
    "# Create a black canvas\n",
    "canvas = np.zeros((150,150,3))\n",
    "\n",
    "# Create a bounding box / use Renault Zoe dimensions\n",
    "polygon = polygon_from_ego(center=(75,75), angle=75, l=17.3, w=41.0)\n",
    "\n",
    "# Draw polygon on canvas\n",
    "img = draw_egopose(polygon, canvas, angle=75, speed=5)"
   ]
  },
  {
   "cell_type": "code",
   "execution_count": 277,
   "metadata": {},
   "outputs": [
    {
     "name": "stderr",
     "output_type": "stream",
     "text": [
      "Clipping input data to the valid range for imshow with RGB data ([0..1] for floats or [0..255] for integers).\n"
     ]
    },
    {
     "data": {
      "text/plain": [
       "<matplotlib.image.AxesImage at 0x1311c1748>"
      ]
     },
     "execution_count": 277,
     "metadata": {},
     "output_type": "execute_result"
    },
    {
     "data": {
      "image/png": "[encoded data removed]",
      "text/plain": [
       "<Figure size 432x288 with 1 Axes>"
      ]
     },
     "metadata": {
      "needs_background": "light"
     },
     "output_type": "display_data"
    }
   ],
   "source": [
    "plt.imshow(img)"
   ]
  },
  {
   "cell_type": "code",
   "execution_count": 335,
   "metadata": {},
   "outputs": [],
   "source": [
    "def makeGaussian(canvas_size, center, height, sigma_X, sigma_Y, theta, resolution=0.1):\n",
    "    '''Make a 2D Gaussian function\n",
    "    canvas_size: Tuple if image size, example (64,64)\n",
    "    center: Tuple of bounding bow center in XY coordinates\n",
    "    heigh: Maximum value of the gaussian at bounding box center\n",
    "    sigma_x, sigma_y: bounding box position uncertainty in x,y axis\n",
    "    theta: bounding box angle in radians\n",
    "    resolution: resolution of function mesh, default 0.1 pixels\n",
    "    '''\n",
    "    x_max, y_max = canvas_size[0], canvas_size[1]\n",
    "    x0, y0 = center\n",
    "    \n",
    "    # Create function mesh\n",
    "    x = np.arange(0, x_max, resolution)\n",
    "    y = np.arange(0, y_max, resolution)\n",
    "    X, Y = np.meshgrid(x, y, sparse=True)\n",
    "    \n",
    "    # Calculate ellipse parameters\n",
    "    a = (np.cos(theta)**2/(2*sigma_X**2)) + (np.sin(theta)**2/(2*sigma_Y**2))\n",
    "    b = (-1*np.sin(2*theta)/(4*sigma_X**2)) + (np.sin(2*theta)/(4*sigma_Y**2))\n",
    "    c = (np.sin(theta)**2/(2*sigma_X**2)) + (np.cos(theta)**2/(2*sigma_Y**2))\n",
    "\n",
    "    # Calculate exponential \n",
    "    g = -1*(a*(X-x0)**2 + 2*b*(X-x0)*(Y-y0) + c*(Y-y0)**2)\n",
    "\n",
    "    return height*np.exp(g)\n",
    "    \n",
    "    \n",
    "def makeBox(canvas_size, center, angle, l=17.3, w=41.1, speed=5):\n",
    "    '''Generate a black canvas with a bouding box\n",
    "    canvas_size: Tuple (64,64) or (64,64,3)\n",
    "    center: Tuple absolute ego coordinates (65,65)\n",
    "    angle: Heading angle of the bounding box in degrees\n",
    "    l: lenght of the bouding box in pixels\n",
    "    w: widht of the bounding box  in pixels\n",
    "    speed: speed of the bounding box\n",
    "    '''\n",
    "    # Create a black canvas\n",
    "    canvas = np.zeros(canvas_size)\n",
    "\n",
    "    # Create a bounding box / use Renault Zoe dimensions\n",
    "    polygon = polygon_from_ego(center, angle, l, w)\n",
    "\n",
    "    # Draw polygon on canvas\n",
    "    return draw_egopose(polygon, canvas, angle, speed)"
   ]
  },
  {
   "cell_type": "code",
   "execution_count": 339,
   "metadata": {},
   "outputs": [
    {
     "data": {
      "text/plain": [
       "<matplotlib.image.AxesImage at 0x13cc80da0>"
      ]
     },
     "execution_count": 339,
     "metadata": {},
     "output_type": "execute_result"
    },
    {
     "data": {
      "image/png": "[encoded data removed]",
      "text/plain": [
       "<Figure size 432x288 with 1 Axes>"
      ]
     },
     "metadata": {
      "needs_background": "light"
     },
     "output_type": "display_data"
    }
   ],
   "source": [
    "# Generate custom gaussian\n",
    "g = makeGaussian(canvas_size=(150,150), center=(15,15), \n",
    "                 height= 1, sigma_X=4.11, sigma_Y=1.77,\n",
    "                 theta=np.radians(15), resolution=1)\n",
    "\n",
    "plt.imshow(g)"
   ]
  },
  {
   "cell_type": "code",
   "execution_count": 340,
   "metadata": {},
   "outputs": [
    {
     "name": "stderr",
     "output_type": "stream",
     "text": [
      "Clipping input data to the valid range for imshow with RGB data ([0..1] for floats or [0..255] for integers).\n"
     ]
    },
    {
     "data": {
      "text/plain": [
       "<matplotlib.image.AxesImage at 0x13ccfdc88>"
      ]
     },
     "execution_count": 340,
     "metadata": {},
     "output_type": "execute_result"
    },
    {
     "data": {
      "image/png": "[encoded data removed]",
      "text/plain": [
       "<Figure size 432x288 with 1 Axes>"
      ]
     },
     "metadata": {
      "needs_background": "light"
     },
     "output_type": "display_data"
    }
   ],
   "source": [
    "# Generate custom bounding box\n",
    "im = makeBox(canvas_size=(150,150,3), center=(15,15),\n",
    "           angle=15, l=17.3, w=41.1, speed=5)\n",
    "\n",
    "plt.imshow(im)"
   ]
  },
  {
   "cell_type": "code",
   "execution_count": 341,
   "metadata": {},
   "outputs": [
    {
     "data": {
      "text/plain": [
       "<matplotlib.image.AxesImage at 0x13f625a20>"
      ]
     },
     "execution_count": 341,
     "metadata": {},
     "output_type": "execute_result"
    },
    {
     "data": {
      "image/png": "[encoded data removed]",
      "text/plain": [
       "<Figure size 432x288 with 1 Axes>"
      ]
     },
     "metadata": {
      "needs_background": "light"
     },
     "output_type": "display_data"
    }
   ],
   "source": [
    "plt.imshow(im[:,:,0] + g*255)"
   ]
  },
  {
   "cell_type": "code",
   "execution_count": null,
   "metadata": {},
   "outputs": [],
   "source": []
  },
  {
   "cell_type": "code",
   "execution_count": null,
   "metadata": {},
   "outputs": [],
   "source": []
  },
  {
   "cell_type": "code",
   "execution_count": null,
   "metadata": {},
   "outputs": [],
   "source": []
  }
 ],
 "metadata": {
  "kernelspec": {
   "display_name": "pytorch",
   "language": "python",
   "name": "pytorch"
  },
  "language_info": {
   "codemirror_mode": {
    "name": "ipython",
    "version": 3
   },
   "file_extension": ".py",
   "mimetype": "text/x-python",
   "name": "python",
   "nbconvert_exporter": "python",
   "pygments_lexer": "ipython3",
   "version": "3.6.8"
  }
 },
 "nbformat": 4,
 "nbformat_minor": 2
}
