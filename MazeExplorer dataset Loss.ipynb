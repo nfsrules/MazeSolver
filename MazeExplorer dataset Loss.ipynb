{
 "cells": [
  {
   "cell_type": "markdown",
   "metadata": {},
   "source": [
    "## MazeExplorer dataset"
   ]
  },
  {
   "cell_type": "code",
   "execution_count": 1,
   "metadata": {},
   "outputs": [
    {
     "name": "stdout",
     "output_type": "stream",
     "text": [
      "WARNING: Running uncompiled Python\n",
      "WARNING: Running uncompiled Python\n"
     ]
    }
   ],
   "source": [
    "from dataset import *\n",
    "import random\n",
    "random.seed(7)"
   ]
  },
  {
   "cell_type": "markdown",
   "metadata": {},
   "source": [
    "### Create dataset instance"
   ]
  },
  {
   "cell_type": "code",
   "execution_count": 6,
   "metadata": {},
   "outputs": [
    {
     "name": "stderr",
     "output_type": "stream",
     "text": [
      "100%|██████████| 50/50 [00:00<00:00, 348.28it/s]"
     ]
    },
    {
     "name": "stdout",
     "output_type": "stream",
     "text": [
      "Creating MazeExplorer dataset of difficulty hard\n",
      "Using Prims generator\n",
      "Using shortest path solver\n"
     ]
    },
    {
     "name": "stderr",
     "output_type": "stream",
     "text": [
      "\n",
      "100%|██████████| 50/50 [00:00<00:00, 281.17it/s]\n"
     ]
    },
    {
     "name": "stdout",
     "output_type": "stream",
     "text": [
      "Dataset generated... 2200 available instances\n"
     ]
    }
   ],
   "source": [
    "me = MazeExplorer(maze_size=(64,64), nbr_instances=100, \n",
    "                  difficulty='hard', nbr_trajectories=20,\n",
    "                  alpha=1)"
   ]
  },
  {
   "cell_type": "markdown",
   "metadata": {},
   "source": [
    "### Plot examples"
   ]
  },
  {
   "cell_type": "code",
   "execution_count": 7,
   "metadata": {},
   "outputs": [],
   "source": [
    "# Get one example from the dataset\n",
    "grid = me[801][0]\n",
    "path = me[801][1]\n",
    "goal = me[801][2]\n",
    "solution = me[801][3]\n",
    "expert_flag = me[801][4]\n",
    "\n",
    "pred_grid = predicted_grid(solution[4], \n",
    "                           estimate_road_width(grid), 64)                      "
   ]
  },
  {
   "cell_type": "code",
   "execution_count": 8,
   "metadata": {},
   "outputs": [
    {
     "data": {
      "text/plain": [
       "Text(0.5, 1.0, 'expert trajectory True')"
      ]
     },
     "execution_count": 8,
     "metadata": {},
     "output_type": "execute_result"
    },
    {
     "data": {
      "image/png": "[encoded data removed]",
      "text/plain": [
       "<Figure size 720x720 with 1 Axes>"
      ]
     },
     "metadata": {
      "needs_background": "light"
     },
     "output_type": "display_data"
    }
   ],
   "source": [
    "plot_solution(grid, solution)\n",
    "plt.title('expert trajectory {}'.format(str(expert_flag)))"
   ]
  },
  {
   "cell_type": "markdown",
   "metadata": {},
   "source": [
    "#### Plot data and losses"
   ]
  },
  {
   "cell_type": "code",
   "execution_count": 5,
   "metadata": {},
   "outputs": [
    {
     "data": {
      "image/png": "[encoded data removed]",
      "text/plain": [
       "<Figure size 432x288 with 1 Axes>"
      ]
     },
     "metadata": {},
     "output_type": "display_data"
    },
    {
     "data": {
      "text/plain": [
       "<Figure size 720x720 with 0 Axes>"
      ]
     },
     "metadata": {},
     "output_type": "display_data"
    }
   ],
   "source": [
    "play_raw_data(grid, solution)"
   ]
  },
  {
   "cell_type": "code",
   "execution_count": 6,
   "metadata": {},
   "outputs": [],
   "source": [
    "play_raw_data(goal, solution)"
   ]
  },
  {
   "cell_type": "code",
   "execution_count": 7,
   "metadata": {},
   "outputs": [],
   "source": [
    "play_raw_data(path, solution)"
   ]
  },
  {
   "cell_type": "code",
   "execution_count": 8,
   "metadata": {},
   "outputs": [
    {
     "name": "stderr",
     "output_type": "stream",
     "text": [
      "100%|██████████| 2200/2200 [00:03<00:00, 609.33it/s]"
     ]
    },
    {
     "name": "stdout",
     "output_type": "stream",
     "text": [
      "Estimated dopping percentage =  45.455\n"
     ]
    },
    {
     "name": "stderr",
     "output_type": "stream",
     "text": [
      "\n"
     ]
    }
   ],
   "source": [
    "# Percentage of trajectories that are not valid\n",
    "# This number roughly should be around 50%\n",
    "# We did that to avoid biases during learning\n",
    "# For each non valid trajectory we generate a valid trajectory\n",
    "# This is controlled inside the functions\n",
    "me.get_dopping_percentage_trajectories()"
   ]
  },
  {
   "cell_type": "code",
   "execution_count": 9,
   "metadata": {},
   "outputs": [
    {
     "name": "stderr",
     "output_type": "stream",
     "text": [
      "100%|██████████| 2200/2200 [00:12<00:00, 179.69it/s]"
     ]
    },
    {
     "name": "stdout",
     "output_type": "stream",
     "text": [
      "Estimated dopping percentage =  15.867\n"
     ]
    },
    {
     "name": "stderr",
     "output_type": "stream",
     "text": [
      "\n"
     ]
    },
    {
     "data": {
      "text/plain": [
       "15.867"
      ]
     },
     "execution_count": 9,
     "metadata": {},
     "output_type": "execute_result"
    }
   ],
   "source": [
    "# The dopping percentage is at trajectory level\n",
    "# It gives the number of trajectory points that are non valid\n",
    "# This number is controled by alpha\n",
    "me.get_dopping_percentage()"
   ]
  },
  {
   "cell_type": "markdown",
   "metadata": {},
   "source": [
    "### Generate PyTorch dataset"
   ]
  },
  {
   "cell_type": "code",
   "execution_count": 10,
   "metadata": {},
   "outputs": [
    {
     "name": "stdout",
     "output_type": "stream",
     "text": [
      "expert = False\n"
     ]
    }
   ],
   "source": [
    "# Unpacking one instance of our dataset\n",
    "grid, path, goals, solution, expert_flag = me[400]\n",
    "print('expert =', expert_flag)\n",
    "\n",
    "## Grid: (64,64) maze grid\n",
    "## Path: (64,64) shortest path grid\n",
    "## Goals: (64,64) maze's start and end\n",
    "## Solution: (X,2) maze's solution (variable lenght)"
   ]
  },
  {
   "cell_type": "code",
   "execution_count": 11,
   "metadata": {},
   "outputs": [
    {
     "data": {
      "text/plain": [
       "<matplotlib.image.AxesImage at 0x1c2c95f588>"
      ]
     },
     "execution_count": 11,
     "metadata": {},
     "output_type": "execute_result"
    },
    {
     "data": {
      "image/png": "[encoded data removed]",
      "text/plain": [
       "<Figure size 432x288 with 1 Axes>"
      ]
     },
     "metadata": {
      "needs_background": "light"
     },
     "output_type": "display_data"
    }
   ],
   "source": [
    "plt.imshow(draw_goals_canvas(grid, solution).T + goals)"
   ]
  },
  {
   "cell_type": "code",
   "execution_count": 12,
   "metadata": {},
   "outputs": [
    {
     "data": {
      "text/plain": [
       "<matplotlib.image.AxesImage at 0x1c2cc69400>"
      ]
     },
     "execution_count": 12,
     "metadata": {},
     "output_type": "execute_result"
    },
    {
     "data": {
      "image/png": "[encoded data removed]",
      "text/plain": [
       "<Figure size 432x288 with 1 Axes>"
      ]
     },
     "metadata": {
      "needs_background": "light"
     },
     "output_type": "display_data"
    }
   ],
   "source": [
    "plt.imshow(draw_solution_canvas(grid, solution).T + grid)"
   ]
  },
  {
   "cell_type": "code",
   "execution_count": 13,
   "metadata": {},
   "outputs": [
    {
     "data": {
      "text/plain": [
       "<matplotlib.image.AxesImage at 0x1c2d033cf8>"
      ]
     },
     "execution_count": 13,
     "metadata": {},
     "output_type": "execute_result"
    },
    {
     "data": {
      "image/png": "[encoded data removed]",
      "text/plain": [
       "<Figure size 432x288 with 1 Axes>"
      ]
     },
     "metadata": {
      "needs_background": "light"
     },
     "output_type": "display_data"
    }
   ],
   "source": [
    "plt.imshow(draw_solution_canvas(path, solution).T + path)"
   ]
  },
  {
   "cell_type": "markdown",
   "metadata": {},
   "source": [
    "#### Pytorch implementation of Graphic Loss (works only transposing the grid)"
   ]
  },
  {
   "cell_type": "code",
   "execution_count": 14,
   "metadata": {},
   "outputs": [],
   "source": [
    "criterion = GraphicLoss()"
   ]
  },
  {
   "cell_type": "code",
   "execution_count": 15,
   "metadata": {},
   "outputs": [
    {
     "data": {
      "text/plain": [
       "tensor(46)"
      ]
     },
     "execution_count": 15,
     "metadata": {},
     "output_type": "execute_result"
    }
   ],
   "source": [
    "criterion(torch.tensor(grid), torch.tensor(draw_solution_canvas(grid, solution)))"
   ]
  },
  {
   "cell_type": "code",
   "execution_count": 16,
   "metadata": {},
   "outputs": [
    {
     "data": {
      "text/plain": [
       "tensor(21)"
      ]
     },
     "execution_count": 16,
     "metadata": {},
     "output_type": "execute_result"
    }
   ],
   "source": [
    "criterion(torch.tensor(path), torch.tensor(draw_solution_canvas(path, solution)))"
   ]
  },
  {
   "cell_type": "code",
   "execution_count": 17,
   "metadata": {},
   "outputs": [
    {
     "data": {
      "text/plain": [
       "tensor(15)"
      ]
     },
     "execution_count": 17,
     "metadata": {},
     "output_type": "execute_result"
    }
   ],
   "source": [
    "criterion(torch.tensor(goals), torch.tensor(draw_goals_canvas(grid, solution)))"
   ]
  },
  {
   "cell_type": "code",
   "execution_count": 18,
   "metadata": {},
   "outputs": [],
   "source": [
    "rmse = RMSELoss()"
   ]
  },
  {
   "cell_type": "code",
   "execution_count": 19,
   "metadata": {},
   "outputs": [
    {
     "data": {
      "text/plain": [
       "tensor(1.0000e-05, dtype=torch.float64)"
      ]
     },
     "execution_count": 19,
     "metadata": {},
     "output_type": "execute_result"
    }
   ],
   "source": [
    "rmse(torch.tensor(solution), torch.tensor(solution))"
   ]
  },
  {
   "cell_type": "code",
   "execution_count": 28,
   "metadata": {},
   "outputs": [],
   "source": [
    "#def TotalLoss(target, prediction, expert_flag):\n",
    "#    grid\n",
    "if expert_flag:  #  imitation learning \n",
    "    loss = rmse(target, prediction)\n",
    "else:  # random exploration\n",
    "    # Calculate wall loss\n",
    "    wall_loss = criterion(torch.tensor(grid), torch.tensor(draw_solution_canvas(grid, solution)))\n",
    "    # Calculate shortest path loss / necessary 'wall loss' + 'path loss'\n",
    "    path_loss = criterion(torch.tensor(path), torch.tensor(draw_solution_canvas(path, solution)))\n",
    "    path_loss = abs(wall_loss-path_loss)\n",
    "    # Calculate goals loss\n",
    "    goal_loss = criterion(torch.tensor(goals), torch.tensor(draw_goals_canvas(grid, solution)))\n",
    "\n",
    "    loss = wall_loss + path_loss + goal_loss\n",
    "    \n",
    "## Conclusion:\n",
    "    # inputs: (grid, path, goals, solution, flag) - from me object (targets)\n",
    "    #          predicted trajectory (estimaed from model)\n",
    "    # outputs: full loss /  depending on expert flag\n",
    "    #          operation should be in batch \n",
    "    "
   ]
  },
  {
   "cell_type": "code",
   "execution_count": 21,
   "metadata": {},
   "outputs": [
    {
     "data": {
      "text/plain": [
       "tensor(86)"
      ]
     },
     "execution_count": 21,
     "metadata": {},
     "output_type": "execute_result"
    }
   ],
   "source": [
    "loss"
   ]
  },
  {
   "cell_type": "code",
   "execution_count": 26,
   "metadata": {},
   "outputs": [],
   "source": [
    "# Create a batch\n",
    "batch = [me[i] for i in range(10)]"
   ]
  },
  {
   "cell_type": "code",
   "execution_count": null,
   "metadata": {},
   "outputs": [],
   "source": []
  },
  {
   "cell_type": "code",
   "execution_count": null,
   "metadata": {},
   "outputs": [],
   "source": []
  },
  {
   "cell_type": "markdown",
   "metadata": {},
   "source": [
    "#### Numply implementation of Graphic Loss"
   ]
  },
  {
   "cell_type": "code",
   "execution_count": 22,
   "metadata": {},
   "outputs": [
    {
     "name": "stdout",
     "output_type": "stream",
     "text": [
      "Overlap loss solution and grid = 46\n",
      "Overlap loss  solution and path = 55\n",
      "Overlap loss solution and goals = 15\n"
     ]
    }
   ],
   "source": [
    "print('Overlap loss solution and grid =', overlap_loss(draw_solution_canvas(grid, solution), grid))\n",
    "print('Overlap loss  solution and path =',overlap_loss(draw_solution_canvas(grid, solution), path))\n",
    "print('Overlap loss solution and goals =',overlap_loss(draw_goals_canvas(grid, solution), goals))"
   ]
  },
  {
   "cell_type": "markdown",
   "metadata": {},
   "source": [
    "#### Notes:\n",
    "    1) We needed to transpose the grid to have a correct Loss calculation (Pytorch and Numpy).\n",
    "    It that a data problem? Why?\n",
    "    \n",
    "    2) The value of path and grid losses are generally the same\n",
    "    \n",
    "    3) As the agent size is dynamic (road_size/2, road_size/2) losses are dependant on the road size.\n",
    "    Each level of maze complexity has its own road_size. Low res mazes will be more punished.\n",
    "    Shall we keep road size fixed?\n",
    "    \n",
    "    4) The max dopping size oftained is 15% with alpha=1. Is that sufficient to change the solution?\n",
    "    Shall we create another definition to go beyond 15% dopping?\n",
    " \n",
    " ### Expert/non expert Loss calculation\n",
    "     The Loss are calculating differently if the sample if 'expert' or non. \n",
    "         If expert:\n",
    "             RMSE() + GraphicLoss() = RMSE() + 0 = RMSE()\n",
    "         else:\n",
    "             GraphicLoss()\n",
    "             \n",
    "     Both losses can be multiplied by a weight if necessary (if they are of different magnitude)"
   ]
  },
  {
   "cell_type": "code",
   "execution_count": 23,
   "metadata": {},
   "outputs": [
    {
     "name": "stdout",
     "output_type": "stream",
     "text": [
      "expert = False\n",
      "expert = True\n"
     ]
    }
   ],
   "source": [
    "# Unpacking one instance of our dataset\n",
    "grid, path, goals, solution, expert_flag = me[400]\n",
    "print('expert =', expert_flag)\n",
    "\n",
    "grid_expert, path_expert, goals_expert, solution_expert, expert_flag_expert = me[600]\n",
    "print('expert =', expert_flag_expert)"
   ]
  },
  {
   "cell_type": "code",
   "execution_count": null,
   "metadata": {},
   "outputs": [],
   "source": []
  }
 ],
 "metadata": {
  "kernelspec": {
   "display_name": "pytorch",
   "language": "python",
   "name": "pytorch"
  },
  "language_info": {
   "codemirror_mode": {
    "name": "ipython",
    "version": 3
   },
   "file_extension": ".py",
   "mimetype": "text/x-python",
   "name": "python",
   "nbconvert_exporter": "python",
   "pygments_lexer": "ipython3",
   "version": "3.6.8"
  }
 },
 "nbformat": 4,
 "nbformat_minor": 2
}
