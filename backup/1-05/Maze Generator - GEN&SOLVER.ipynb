{
 "cells": [
  {
   "cell_type": "code",
   "execution_count": 1,
   "metadata": {},
   "outputs": [
    {
     "name": "stdout",
     "output_type": "stream",
     "text": [
      "WARNING: Running uncompiled Python\n",
      "WARNING: Running uncompiled Python\n"
     ]
    }
   ],
   "source": [
    "from mazelib import *\n",
    "import numpy as np\n",
    "import matplotlib.pyplot as plt"
   ]
  },
  {
   "cell_type": "code",
   "execution_count": 74,
   "metadata": {},
   "outputs": [],
   "source": [
    "\n",
    "def showPNG(grid, axis=False):\n",
    "    \"\"\"Generate a simple image of the maze.\"\"\"\n",
    "    plt.figure(figsize=(10, 5))\n",
    "    plt.imshow(grid, cmap=plt.cm.binary, interpolation='nearest')\n",
    "    if not axis:\n",
    "        plt.xticks([]), plt.yticks([])\n",
    "    plt.show()\n",
    "    \n",
    "    \n",
    "def unpack(solution):\n",
    "    '''Unpack maze solution to numpy array'''\n",
    "    x = []\n",
    "    y = []\n",
    "    for element in solution[0]:\n",
    "        x_, y_ = element\n",
    "        x.append(x_)\n",
    "        y.append(y_)\n",
    "    return np.stack((x,y), axis=1)"
   ]
  },
  {
   "cell_type": "code",
   "execution_count": 75,
   "metadata": {},
   "outputs": [],
   "source": [
    "m = Maze()"
   ]
  },
  {
   "cell_type": "code",
   "execution_count": 76,
   "metadata": {},
   "outputs": [],
   "source": [
    "m.generator = Prims(3,3)"
   ]
  },
  {
   "cell_type": "code",
   "execution_count": 77,
   "metadata": {},
   "outputs": [],
   "source": [
    "m.solver = WallFollower()"
   ]
  },
  {
   "cell_type": "code",
   "execution_count": 78,
   "metadata": {},
   "outputs": [],
   "source": [
    "mazes = m.generate_monte_carlo(10, 10, 1.0)\n",
    "## Generate 10 different mazes\n",
    "## Generate 10 different pairs of start/end \n",
    "## Rank mazes by the lenght of the solution. The shortest the easier"
   ]
  },
  {
   "cell_type": "markdown",
   "metadata": {},
   "source": [
    "#### Take 1 solution of the 10 generated mazes"
   ]
  },
  {
   "cell_type": "code",
   "execution_count": 79,
   "metadata": {},
   "outputs": [],
   "source": [
    "# Get desired maze\n",
    "grid = mazes[9]['grid']\n",
    "solution = unpack(mazes[9]['solutions'])\n",
    "start = np.array(mazes[9]['start'])\n",
    "end = np.array(mazes[9]['end'])"
   ]
  },
  {
   "cell_type": "code",
   "execution_count": 80,
   "metadata": {},
   "outputs": [
    {
     "data": {
      "text/plain": [
       "array([0, 5])"
      ]
     },
     "execution_count": 80,
     "metadata": {},
     "output_type": "execute_result"
    }
   ],
   "source": [
    "start"
   ]
  },
  {
   "cell_type": "code",
   "execution_count": 81,
   "metadata": {},
   "outputs": [
    {
     "data": {
      "text/plain": [
       "array([6, 3])"
      ]
     },
     "execution_count": 81,
     "metadata": {},
     "output_type": "execute_result"
    }
   ],
   "source": [
    "end"
   ]
  },
  {
   "cell_type": "code",
   "execution_count": 82,
   "metadata": {},
   "outputs": [
    {
     "data": {
      "text/plain": [
       "array([[1, 5],\n",
       "       [1, 4],\n",
       "       [1, 3],\n",
       "       [1, 2],\n",
       "       [1, 1],\n",
       "       [2, 1],\n",
       "       [3, 1],\n",
       "       [3, 2],\n",
       "       [3, 3],\n",
       "       [4, 3],\n",
       "       [5, 3]])"
      ]
     },
     "execution_count": 82,
     "metadata": {},
     "output_type": "execute_result"
    }
   ],
   "source": [
    "solution"
   ]
  },
  {
   "cell_type": "code",
   "execution_count": 83,
   "metadata": {},
   "outputs": [
    {
     "data": {
      "text/plain": [
       "Text(0.5, 1.0, 'maze')"
      ]
     },
     "execution_count": 83,
     "metadata": {},
     "output_type": "execute_result"
    },
    {
     "data": {
      "image/png": "[encoded data removed]",
      "text/plain": [
       "<Figure size 432x288 with 1 Axes>"
      ]
     },
     "metadata": {
      "needs_background": "light"
     },
     "output_type": "display_data"
    }
   ],
   "source": [
    "plt.imshow(grid, cmap=plt.cm.binary, \n",
    "           interpolation='nearest', origin='lower')\n",
    "\n",
    "plt.title('maze')"
   ]
  },
  {
   "cell_type": "code",
   "execution_count": 84,
   "metadata": {},
   "outputs": [],
   "source": [
    "# Clear entrances / Set entrances to 0\n",
    "grid[start[0], start[1]] = 0\n",
    "grid[end[0], end[1]] = 0"
   ]
  },
  {
   "cell_type": "code",
   "execution_count": 85,
   "metadata": {},
   "outputs": [
    {
     "data": {
      "text/plain": [
       "Text(0.5, 1.0, 'maze w/ cleared io')"
      ]
     },
     "execution_count": 85,
     "metadata": {},
     "output_type": "execute_result"
    },
    {
     "data": {
      "image/png": "[encoded data removed]",
      "text/plain": [
       "<Figure size 432x288 with 1 Axes>"
      ]
     },
     "metadata": {
      "needs_background": "light"
     },
     "output_type": "display_data"
    }
   ],
   "source": [
    "plt.imshow(grid, cmap=plt.cm.binary, \n",
    "           interpolation='nearest', origin='lower')\n",
    "\n",
    "plt.title('maze w/ cleared io')"
   ]
  },
  {
   "cell_type": "code",
   "execution_count": 86,
   "metadata": {},
   "outputs": [],
   "source": [
    "# and start and end to solution\n",
    "solution = np.concatenate((start.reshape(1,2), solution, \n",
    "                    end.reshape(1,2)), axis=0)"
   ]
  },
  {
   "cell_type": "code",
   "execution_count": 87,
   "metadata": {},
   "outputs": [
    {
     "data": {
      "text/plain": [
       "array([[0, 5],\n",
       "       [1, 5],\n",
       "       [1, 4],\n",
       "       [1, 3],\n",
       "       [1, 2],\n",
       "       [1, 1],\n",
       "       [2, 1],\n",
       "       [3, 1],\n",
       "       [3, 2],\n",
       "       [3, 3],\n",
       "       [4, 3],\n",
       "       [5, 3],\n",
       "       [6, 3]])"
      ]
     },
     "execution_count": 87,
     "metadata": {},
     "output_type": "execute_result"
    }
   ],
   "source": [
    "solution"
   ]
  },
  {
   "cell_type": "code",
   "execution_count": 88,
   "metadata": {},
   "outputs": [],
   "source": [
    "# Paint desired solution path\n",
    "canvas = np.zeros((7,7))\n",
    "\n",
    "# Set solution pixels to 1\n",
    "for pixel in solution:\n",
    "    canvas[pixel[0], pixel[1]]= 0.5\n",
    "    "
   ]
  },
  {
   "cell_type": "code",
   "execution_count": 89,
   "metadata": {},
   "outputs": [
    {
     "data": {
      "text/plain": [
       "Text(0.5, 1.0, 'path planning')"
      ]
     },
     "execution_count": 89,
     "metadata": {},
     "output_type": "execute_result"
    },
    {
     "data": {
      "image/png": "[encoded data removed]",
      "text/plain": [
       "<Figure size 432x288 with 1 Axes>"
      ]
     },
     "metadata": {
      "needs_background": "light"
     },
     "output_type": "display_data"
    }
   ],
   "source": [
    "plt.imshow(canvas, cmap=plt.cm.binary, \n",
    "           interpolation='nearest', origin='lower')\n",
    "\n",
    "plt.title('path planning')"
   ]
  },
  {
   "cell_type": "code",
   "execution_count": 90,
   "metadata": {},
   "outputs": [],
   "source": [
    "# Sum of path planning + maze\n",
    "res = grid + canvas"
   ]
  },
  {
   "cell_type": "code",
   "execution_count": 91,
   "metadata": {},
   "outputs": [
    {
     "data": {
      "text/plain": [
       "Text(0.5, 1.0, 'Grid + path planning')"
      ]
     },
     "execution_count": 91,
     "metadata": {},
     "output_type": "execute_result"
    },
    {
     "data": {
      "image/png": "[encoded data removed]",
      "text/plain": [
       "<Figure size 432x288 with 1 Axes>"
      ]
     },
     "metadata": {
      "needs_background": "light"
     },
     "output_type": "display_data"
    }
   ],
   "source": [
    "plt.imshow(res, cmap=plt.cm.binary, \n",
    "           interpolation='nearest', origin='lower')\n",
    "\n",
    "plt.title('Grid + path planning')"
   ]
  },
  {
   "cell_type": "code",
   "execution_count": 92,
   "metadata": {},
   "outputs": [
    {
     "data": {
      "text/plain": [
       "(0, 6)"
      ]
     },
     "execution_count": 92,
     "metadata": {},
     "output_type": "execute_result"
    },
    {
     "data": {
      "image/png": "[encoded data removed]",
      "text/plain": [
       "<Figure size 432x288 with 1 Axes>"
      ]
     },
     "metadata": {
      "needs_background": "light"
     },
     "output_type": "display_data"
    }
   ],
   "source": [
    "plt.imshow(res, cmap=plt.cm.binary, \n",
    "           interpolation='nearest', origin='lower')\n",
    "\n",
    "plt.title('Grid + path planning + trajectory')\n",
    "plt.scatter(solution[:, 1], solution[:, 0])\n",
    "plt.xlim((0,6))\n",
    "plt.ylim((0,6))"
   ]
  },
  {
   "cell_type": "markdown",
   "metadata": {},
   "source": [
    "### Upsample image and generate family of trajectories\n",
    "    We should upsample the maze without deforming cartesian"
   ]
  },
  {
   "cell_type": "code",
   "execution_count": 93,
   "metadata": {},
   "outputs": [],
   "source": [
    "from skimage.transform import resize"
   ]
  },
  {
   "cell_type": "code",
   "execution_count": 94,
   "metadata": {},
   "outputs": [
    {
     "data": {
      "text/plain": [
       "array([[1. , 1. , 1. , 1. , 1. , 0.5, 1. ],\n",
       "       [1. , 0.5, 0.5, 0.5, 0.5, 0.5, 1. ],\n",
       "       [1. , 0.5, 1. , 1. , 1. , 0. , 1. ],\n",
       "       [1. , 0.5, 0.5, 0.5, 1. , 0. , 1. ],\n",
       "       [1. , 0. , 1. , 0.5, 1. , 1. , 1. ],\n",
       "       [1. , 0. , 1. , 0.5, 0. , 0. , 1. ],\n",
       "       [1. , 1. , 1. , 0.5, 1. , 1. , 1. ]])"
      ]
     },
     "execution_count": 94,
     "metadata": {},
     "output_type": "execute_result"
    }
   ],
   "source": [
    "res"
   ]
  },
  {
   "cell_type": "code",
   "execution_count": 95,
   "metadata": {},
   "outputs": [
    {
     "data": {
      "text/plain": [
       "(7, 7)"
      ]
     },
     "execution_count": 95,
     "metadata": {},
     "output_type": "execute_result"
    }
   ],
   "source": [
    "res.shape"
   ]
  },
  {
   "cell_type": "markdown",
   "metadata": {},
   "source": [
    "#### Upsample maze to 64x64"
   ]
  },
  {
   "cell_type": "code",
   "execution_count": 96,
   "metadata": {},
   "outputs": [
    {
     "name": "stderr",
     "output_type": "stream",
     "text": [
      "/anaconda3/lib/python3.7/site-packages/skimage/transform/_warps.py:105: UserWarning: The default mode, 'constant', will be changed to 'reflect' in skimage 0.15.\n",
      "  warn(\"The default mode, 'constant', will be changed to 'reflect' in \"\n",
      "/anaconda3/lib/python3.7/site-packages/skimage/transform/_warps.py:110: UserWarning: Anti-aliasing will be enabled by default in skimage 0.15 to avoid aliasing artifacts when down-sampling images.\n",
      "  warn(\"Anti-aliasing will be enabled by default in skimage 0.15 to \"\n"
     ]
    }
   ],
   "source": [
    "rr = resize(res, (64,64), order=0)"
   ]
  },
  {
   "cell_type": "code",
   "execution_count": 97,
   "metadata": {},
   "outputs": [
    {
     "data": {
      "text/plain": [
       "(64, 64)"
      ]
     },
     "execution_count": 97,
     "metadata": {},
     "output_type": "execute_result"
    }
   ],
   "source": [
    "rr.shape"
   ]
  },
  {
   "cell_type": "markdown",
   "metadata": {},
   "source": [
    "#### Upsample trajectory"
   ]
  },
  {
   "cell_type": "code",
   "execution_count": 98,
   "metadata": {},
   "outputs": [],
   "source": [
    "up_factor = 64/7\n",
    "\n",
    "up_trajectory = solution*up_factor + 4"
   ]
  },
  {
   "cell_type": "code",
   "execution_count": 99,
   "metadata": {},
   "outputs": [
    {
     "data": {
      "text/plain": [
       "(0, 63)"
      ]
     },
     "execution_count": 99,
     "metadata": {},
     "output_type": "execute_result"
    },
    {
     "data": {
      "image/png": "[encoded data removed]",
      "text/plain": [
       "<Figure size 432x288 with 1 Axes>"
      ]
     },
     "metadata": {
      "needs_background": "light"
     },
     "output_type": "display_data"
    }
   ],
   "source": [
    "#plt.figure(figsize=(10, 10))\n",
    "\n",
    "plt.imshow(rr, cmap=plt.cm.binary, \n",
    "           interpolation='nearest', \n",
    "           origin='lower')\n",
    "\n",
    "plt.scatter(up_trajectory[:, 1], up_trajectory[:, 0],s=10 , c='r', marker='+')\n",
    "\n",
    "plt.xlim((0,63))\n",
    "plt.ylim((0,63))"
   ]
  },
  {
   "cell_type": "markdown",
   "metadata": {},
   "source": [
    "#### update path planning"
   ]
  },
  {
   "cell_type": "code",
   "execution_count": 100,
   "metadata": {},
   "outputs": [],
   "source": [
    "rr_sol = resize(canvas, (64,64), order=0)"
   ]
  },
  {
   "cell_type": "code",
   "execution_count": 101,
   "metadata": {},
   "outputs": [
    {
     "data": {
      "text/plain": [
       "<matplotlib.collections.PathCollection at 0x1c21703470>"
      ]
     },
     "execution_count": 101,
     "metadata": {},
     "output_type": "execute_result"
    },
    {
     "data": {
      "image/png": "[encoded data removed]",
      "text/plain": [
       "<Figure size 432x288 with 1 Axes>"
      ]
     },
     "metadata": {
      "needs_background": "light"
     },
     "output_type": "display_data"
    }
   ],
   "source": [
    "plt.imshow(rr_sol, cmap=plt.cm.binary, \n",
    "           interpolation='nearest', \n",
    "           origin='lower')\n",
    "plt.scatter(up_trajectory[:, 1], up_trajectory[:, 0],s=10 , c='r', marker='+')\n"
   ]
  },
  {
   "cell_type": "markdown",
   "metadata": {},
   "source": [
    "#### Get road size"
   ]
  },
  {
   "cell_type": "code",
   "execution_count": 102,
   "metadata": {},
   "outputs": [
    {
     "name": "stdout",
     "output_type": "stream",
     "text": [
      "Most likely road size x =  [ 8  9 27 45]\n",
      "Most likely road size y =  [ 0  8 17 27 54]\n",
      "Most likely road size xy =  8\n"
     ]
    }
   ],
   "source": [
    "road_size_x = []\n",
    "road_size_y = []\n",
    "\n",
    "for i in range(63):\n",
    "    sec = rr_sol[i, :]  # get section\n",
    "    rows = np.where(sec == 0.5)  # where is the road?  \n",
    "    \n",
    "    if rows[0].any():\n",
    "        max_ = np.max(rows) - np.min(rows)  # max road size in pixels\n",
    "        road_size_x.append(max_)\n",
    "    else:\n",
    "        road_size_x.append(0)\n",
    "\n",
    "for i in range(63):\n",
    "    sec = rr_sol[:, i]  # get section\n",
    "    rows = np.where(sec == 0.5)  # where is the road?  \n",
    "    \n",
    "    if rows[0].any():\n",
    "        max_ = np.max(rows) - np.min(rows)  # max road size in pixels\n",
    "        road_size_y.append(max_)\n",
    "    else:\n",
    "        road_size_y.append(0)\n",
    "\n",
    "        \n",
    "print('Most likely road size x = ', np.unique(road_size_x))\n",
    "print('Most likely road size y = ', np.unique(road_size_y))\n",
    "print('Most likely road size xy = ', np.unique(np.stack((road_size_x, road_size_y)))[1])"
   ]
  },
  {
   "cell_type": "markdown",
   "metadata": {},
   "source": [
    "#### Perturbate trajectories"
   ]
  },
  {
   "cell_type": "code",
   "execution_count": 103,
   "metadata": {},
   "outputs": [
    {
     "data": {
      "text/plain": [
       "array([[ 4.        , 49.71428571],\n",
       "       [13.14285714, 49.71428571],\n",
       "       [13.14285714, 40.57142857],\n",
       "       [13.14285714, 31.42857143],\n",
       "       [13.14285714, 22.28571429],\n",
       "       [13.14285714, 13.14285714],\n",
       "       [22.28571429, 13.14285714],\n",
       "       [31.42857143, 13.14285714],\n",
       "       [31.42857143, 22.28571429],\n",
       "       [31.42857143, 31.42857143],\n",
       "       [40.57142857, 31.42857143],\n",
       "       [49.71428571, 31.42857143],\n",
       "       [58.85714286, 31.42857143]])"
      ]
     },
     "execution_count": 103,
     "metadata": {},
     "output_type": "execute_result"
    }
   ],
   "source": [
    "# We scan the desired trajectory and detect points where the trajectory changes\n",
    "# We perturbate a point in the middle adding a random integer\n",
    "# Perturbations can be feasible or unfeasible\n",
    "up_trajectory"
   ]
  },
  {
   "cell_type": "code",
   "execution_count": 104,
   "metadata": {},
   "outputs": [
    {
     "data": {
      "text/plain": [
       "array([[ 9.14285714,  0.        ],\n",
       "       [ 0.        , -9.14285714],\n",
       "       [ 0.        , -9.14285714],\n",
       "       [ 0.        , -9.14285714],\n",
       "       [ 0.        , -9.14285714],\n",
       "       [ 9.14285714,  0.        ],\n",
       "       [ 9.14285714,  0.        ],\n",
       "       [ 0.        ,  9.14285714],\n",
       "       [ 0.        ,  9.14285714],\n",
       "       [ 9.14285714,  0.        ],\n",
       "       [ 9.14285714,  0.        ],\n",
       "       [ 9.14285714,  0.        ]])"
      ]
     },
     "execution_count": 104,
     "metadata": {},
     "output_type": "execute_result"
    }
   ],
   "source": [
    "dif = np.diff(up_trajectory, axis=0)\n",
    "dif"
   ]
  },
  {
   "cell_type": "code",
   "execution_count": 153,
   "metadata": {},
   "outputs": [],
   "source": [
    "mu = 9\n",
    "sigma = 2\n",
    "\n",
    "def perturbation(mu, sigma=1.5):\n",
    "    return np.random.normal(mu, sigma, 1)[0]\n"
   ]
  },
  {
   "cell_type": "code",
   "execution_count": 160,
   "metadata": {},
   "outputs": [
    {
     "name": "stdout",
     "output_type": "stream",
     "text": [
      "anchor point do not perturbate\n",
      "both equal pertubation\n",
      "both equal pertubation\n",
      "both equal pertubation\n",
      "anchor point do not perturbate\n",
      "both equal pertubation\n",
      "anchor point do not perturbate\n",
      "both equal pertubation\n",
      "anchor point do not perturbate\n",
      "both equal pertubation\n",
      "both equal pertubation\n"
     ]
    }
   ],
   "source": [
    "\n",
    "new_points = [] \n",
    "\n",
    "# Append entrance (point A)\n",
    "new_points.append(up_trajectory[0])\n",
    "# Calculate diff with second point\n",
    "diff = up_trajectory[1] - up_trajectory[0]\n",
    "# Detect if there is any zero on x ot y\n",
    "past_x_flag, past_y_flag = diff == 0\n",
    "\n",
    "#print(past_x_flag)\n",
    "#print(past_y_flag)\n",
    "\n",
    "for i in range(1, len(up_trajectory)-1):\n",
    "\n",
    "    # Calculate diff from the next point\n",
    "    diff = up_trajectory[i+1] - up_trajectory[i]\n",
    "    # Check if any of the coordinates have a 0\n",
    "    current_x_flag, current_y_flag = diff == 0\n",
    "    \n",
    "\n",
    "    x, y = up_trajectory[i]\n",
    "    \n",
    "    if current_x_flag == past_x_flag and current_x_flag == past_x_flag: ### ALL flags are equal\n",
    "        new_point = np.array([perturbation(x), perturbation(y)])\n",
    "        print('both equal pertubation') \n",
    "    else:   #### Flags are different\n",
    "        #if current_x_flag == past_x_flag: \n",
    "        #    new_point = np.array([x, y + 2])\n",
    "        #    print('horizontal perturbation')\n",
    "\n",
    "        #elif current_y_flag == past_y_flag:    \n",
    "            # Movement in vertical direction / perturbate X\n",
    "        #    new_point = np.array([x + 2, y])\n",
    "        #    print('vertical perturbation')  \n",
    "            \n",
    "        #else:  # Anchor point\n",
    "        # Transition point end_anchor\n",
    "        print('anchor point do not perturbate')\n",
    "        new_point = np.array([x,y])\n",
    "    \n",
    "    # Update flag\n",
    "    past_x_flag = current_x_flag\n",
    "    past_y_flag = current_y_flag\n",
    "        \n",
    "    # Append point\n",
    "    new_points.append(new_point)\n",
    "    \n",
    "new_points.append(up_trajectory[-1])\n",
    "new_points = np.array(new_points)"
   ]
  },
  {
   "cell_type": "code",
   "execution_count": 161,
   "metadata": {},
   "outputs": [
    {
     "data": {
      "text/plain": [
       "<matplotlib.collections.PathCollection at 0x1c226eae10>"
      ]
     },
     "execution_count": 161,
     "metadata": {},
     "output_type": "execute_result"
    },
    {
     "data": {
      "image/png": "[encoded data removed]",
      "text/plain": [
       "<Figure size 432x288 with 1 Axes>"
      ]
     },
     "metadata": {
      "needs_background": "light"
     },
     "output_type": "display_data"
    }
   ],
   "source": [
    "plt.imshow(rr_sol, cmap=plt.cm.binary, \n",
    "           interpolation='nearest', \n",
    "           origin='lower')\n",
    "plt.scatter(new_points[:, 1], new_points[:, 0],s=10 , c='r', marker='+')\n"
   ]
  },
  {
   "cell_type": "code",
   "execution_count": 162,
   "metadata": {},
   "outputs": [
    {
     "data": {
      "text/plain": [
       "<matplotlib.collections.PathCollection at 0x1c227f5780>"
      ]
     },
     "execution_count": 162,
     "metadata": {},
     "output_type": "execute_result"
    },
    {
     "data": {
      "image/png": "[encoded data removed]",
      "text/plain": [
       "<Figure size 432x288 with 1 Axes>"
      ]
     },
     "metadata": {
      "needs_background": "light"
     },
     "output_type": "display_data"
    }
   ],
   "source": [
    "plt.imshow(rr_sol, cmap=plt.cm.binary, \n",
    "           interpolation='nearest', \n",
    "           origin='lower')\n",
    "plt.scatter(up_trajectory[:, 1], up_trajectory[:, 0],s=10 , c='r', marker='+')\n"
   ]
  }
 ],
 "metadata": {
  "kernelspec": {
   "display_name": "Python 3",
   "language": "python",
   "name": "python3"
  },
  "language_info": {
   "codemirror_mode": {
    "name": "ipython",
    "version": 3
   },
   "file_extension": ".py",
   "mimetype": "text/x-python",
   "name": "python",
   "nbconvert_exporter": "python",
   "pygments_lexer": "ipython3",
   "version": "3.7.1"
  }
 },
 "nbformat": 4,
 "nbformat_minor": 2
}
